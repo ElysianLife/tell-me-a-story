{
 "cells": [
  {
   "cell_type": "markdown",
   "metadata": {},
   "source": [
    "# Capstone Project: Tell Me a Story...#\n",
    "\n",
    "Elyse Renouf   **|**   July 31, 2020   "
   ]
  },
  {
   "cell_type": "markdown",
   "metadata": {},
   "source": [
    "Tell Me A Story (TMAS) is a content-based young children's book recommender using NLP that is derived from a Kaggle dataset of Goodreads.com book reviews. It was created so parents could input one of their child's favourite books and TMAS can recommend other similar books to read based entirely on key words in the book descriptions. \n",
    "\n",
    "**Please Note:** This is notebook 1 of 3 that were used to build the final product. This notebook includes all the steps I took when downloading and paring down the initial suite of eleven Goodreads.com data files from Kaggle; focused solely on children's books and resulting in a manageable starting point that is ready for cleaning and next steps. \n",
    "\n",
    "<hr>\n",
    "\n",
    "### Loading & Merging Datasets ###\n",
    "\n",
    "Because the original dataset did not classify books by genre or age, I attempted to identify books that are specifically for children by first researching whether the unique ISBN numbers that are allocated to each book would have a genre identifier but they do not. \n",
    "\n",
    "So instead, I decided to use page count as a rough identifier. I began by finding the average standard number of pages in children's books (according to authors and publishers), then pulled each of them out of the original Kaggle CSV files and merged them into a single dataset, specific to kids. \n",
    "\n",
    "Age Ranges & Book Classifications that I used for the purpose of this analysis:\n",
    "<ul>\n",
    "<li> Board Books (ages 0-2): 10 or less pages\n",
    "<li> Picture Books (2-3): Pages in multiples of 8 ranging from 16-32 pages in length\n",
    "<li> Early Readers (4-6): 32-48 pages (32+ for the purposes of this project)\n",
    "</ul>\n",
    "\n",
    "And so, to simplify, I decided to split my data into only two categories using these age & book classifications as a guide (this step is done in notebook 2 of 3). \n",
    "\n",
    "In initially viewing the datasets and typical books/page counts, I started by only pulling in books over 50 pages but, after exporting those files to Excel just to scroll through the titles and do a contents check, I realized that the majority of that dataset was adult books using that page count. \n",
    "\n",
    "I tried again, using 40 pages as a threshold with similar results and upon closer review, I found that, in this dataset, anything over 38 pages is extremely difficult to capture and classify as a children's book by number of pages alone. \n",
    "\n",
    "I then had to isolate publisher names as a next step, however to reduce the number of publishers required for review, I limited my inital recommender dataset to target children under 6 years of age (according to publisher page count recommendations) and at a max of 38 pages. \n",
    "\n",
    "I understand I will be losing children's books that will be longer than 38 pages and will also capture some non-children's books in this initial sweep but this was the simplest way to start, in my opinion.  \n",
    "\n",
    "This notebook includes the steps I took in pulling the eleven .csv files from Kaggle, each with over 100,000 entries and then pulling out only (mostly) children's books using the above guidelines and assumptions. \n",
    "\n",
    "I then merged those into a single file and exported my finished dataset to a .csv file to be read into my EDA & Cleaning notebook for the next steps in this project. "
   ]
  },
  {
   "cell_type": "markdown",
   "metadata": {},
   "source": [
    "### Reference Pages:###\n",
    "<ul>\n",
    "<li> Datasets gathered from:https://www.kaggle.com/bahramjannesarr/goodreads-book-datasets-10m\n",
    "<li> Children's Book Page Range averages and ages estimated based on info from:https://www.jennybowman.com/what-genre-is-my-childrens-book/\n",
    "</ul>"
   ]
  },
  {
   "cell_type": "code",
   "execution_count": 1,
   "metadata": {},
   "outputs": [],
   "source": [
    "#import needed packages\n",
    "import numpy as np\n",
    "import pandas as pd\n",
    "import matplotlib.pyplot as plt\n",
    "import seaborn as sns"
   ]
  },
  {
   "cell_type": "markdown",
   "metadata": {},
   "source": [
    "#### Reading in all of the Datsets:####"
   ]
  },
  {
   "cell_type": "code",
   "execution_count": 2,
   "metadata": {},
   "outputs": [
    {
     "name": "stdout",
     "output_type": "stream",
     "text": [
      "There are 55156 rows and 19 columns in the first books dataframe.\n"
     ]
    }
   ],
   "source": [
    "#Reading in the first 100k books dataset that comes with book descriptions\n",
    "books = pd.read_csv('data/book600k-700k.csv')\n",
    "\n",
    "# Print out the shape of the df\n",
    "print(f'There are {books.shape[0]} rows and {books.shape[1]} columns in the first books dataframe.')"
   ]
  },
  {
   "cell_type": "code",
   "execution_count": 3,
   "metadata": {},
   "outputs": [
    {
     "data": {
      "text/html": [
       "<div>\n",
       "<style scoped>\n",
       "    .dataframe tbody tr th:only-of-type {\n",
       "        vertical-align: middle;\n",
       "    }\n",
       "\n",
       "    .dataframe tbody tr th {\n",
       "        vertical-align: top;\n",
       "    }\n",
       "\n",
       "    .dataframe thead th {\n",
       "        text-align: right;\n",
       "    }\n",
       "</style>\n",
       "<table border=\"1\" class=\"dataframe\">\n",
       "  <thead>\n",
       "    <tr style=\"text-align: right;\">\n",
       "      <th></th>\n",
       "      <th>Id</th>\n",
       "      <th>Name</th>\n",
       "      <th>Authors</th>\n",
       "      <th>ISBN</th>\n",
       "      <th>Rating</th>\n",
       "      <th>PublishYear</th>\n",
       "      <th>PublishMonth</th>\n",
       "      <th>PublishDay</th>\n",
       "      <th>Publisher</th>\n",
       "      <th>RatingDist5</th>\n",
       "      <th>RatingDist4</th>\n",
       "      <th>RatingDist3</th>\n",
       "      <th>RatingDist2</th>\n",
       "      <th>RatingDist1</th>\n",
       "      <th>RatingDistTotal</th>\n",
       "      <th>CountsOfReview</th>\n",
       "      <th>Language</th>\n",
       "      <th>pagesNumber</th>\n",
       "      <th>Description</th>\n",
       "    </tr>\n",
       "  </thead>\n",
       "  <tbody>\n",
       "    <tr>\n",
       "      <th>0</th>\n",
       "      <td>600000</td>\n",
       "      <td>Lessons Learned (Great Chefs, #2)</td>\n",
       "      <td>Nora Roberts</td>\n",
       "      <td>037351025X</td>\n",
       "      <td>3.74</td>\n",
       "      <td>1993</td>\n",
       "      <td>15</td>\n",
       "      <td>2</td>\n",
       "      <td>Silhouette</td>\n",
       "      <td>5:947</td>\n",
       "      <td>4:1016</td>\n",
       "      <td>3:1061</td>\n",
       "      <td>2:287</td>\n",
       "      <td>1:63</td>\n",
       "      <td>total:3374</td>\n",
       "      <td>86</td>\n",
       "      <td>eng</td>\n",
       "      <td>250</td>\n",
       "      <td>LESSONS LEARNED...&lt;br /&gt;&lt;br /&gt;Coordinating the...</td>\n",
       "    </tr>\n",
       "    <tr>\n",
       "      <th>1</th>\n",
       "      <td>600001</td>\n",
       "      <td>Walking by Faith: Lessons Learned in the Dark</td>\n",
       "      <td>Jennifer Rothschild</td>\n",
       "      <td>0633099325</td>\n",
       "      <td>4.27</td>\n",
       "      <td>2003</td>\n",
       "      <td>1</td>\n",
       "      <td>1</td>\n",
       "      <td>Lifeway Church Resources</td>\n",
       "      <td>5:367</td>\n",
       "      <td>4:246</td>\n",
       "      <td>3:109</td>\n",
       "      <td>2:22</td>\n",
       "      <td>1:5</td>\n",
       "      <td>total:749</td>\n",
       "      <td>7</td>\n",
       "      <td>NaN</td>\n",
       "      <td>112</td>\n",
       "      <td>At the age of fifteen, Jennifer Rothschild con...</td>\n",
       "    </tr>\n",
       "    <tr>\n",
       "      <th>2</th>\n",
       "      <td>600003</td>\n",
       "      <td>Better Health in Africa: Experience and Lesson...</td>\n",
       "      <td>World Bank Group</td>\n",
       "      <td>0821328174</td>\n",
       "      <td>5.00</td>\n",
       "      <td>1994</td>\n",
       "      <td>1</td>\n",
       "      <td>1</td>\n",
       "      <td>World Bank Publications</td>\n",
       "      <td>5:1</td>\n",
       "      <td>4:0</td>\n",
       "      <td>3:0</td>\n",
       "      <td>2:0</td>\n",
       "      <td>1:0</td>\n",
       "      <td>total:1</td>\n",
       "      <td>1</td>\n",
       "      <td>NaN</td>\n",
       "      <td>240</td>\n",
       "      <td>NaN</td>\n",
       "    </tr>\n",
       "  </tbody>\n",
       "</table>\n",
       "</div>"
      ],
      "text/plain": [
       "       Id                                               Name  \\\n",
       "0  600000                  Lessons Learned (Great Chefs, #2)   \n",
       "1  600001      Walking by Faith: Lessons Learned in the Dark   \n",
       "2  600003  Better Health in Africa: Experience and Lesson...   \n",
       "\n",
       "               Authors        ISBN  Rating  PublishYear  PublishMonth  \\\n",
       "0         Nora Roberts  037351025X    3.74         1993            15   \n",
       "1  Jennifer Rothschild  0633099325    4.27         2003             1   \n",
       "2     World Bank Group  0821328174    5.00         1994             1   \n",
       "\n",
       "   PublishDay                 Publisher RatingDist5 RatingDist4 RatingDist3  \\\n",
       "0           2                Silhouette       5:947      4:1016      3:1061   \n",
       "1           1  Lifeway Church Resources       5:367       4:246       3:109   \n",
       "2           1   World Bank Publications         5:1         4:0         3:0   \n",
       "\n",
       "  RatingDist2 RatingDist1 RatingDistTotal  CountsOfReview Language  \\\n",
       "0       2:287        1:63      total:3374              86      eng   \n",
       "1        2:22         1:5       total:749               7      NaN   \n",
       "2         2:0         1:0         total:1               1      NaN   \n",
       "\n",
       "   pagesNumber                                        Description  \n",
       "0          250  LESSONS LEARNED...<br /><br />Coordinating the...  \n",
       "1          112  At the age of fifteen, Jennifer Rothschild con...  \n",
       "2          240                                                NaN  "
      ]
     },
     "execution_count": 3,
     "metadata": {},
     "output_type": "execute_result"
    }
   ],
   "source": [
    "#getting information about each column in the df dataframe\n",
    "books.head(3)"
   ]
  },
  {
   "cell_type": "code",
   "execution_count": 4,
   "metadata": {},
   "outputs": [
    {
     "name": "stdout",
     "output_type": "stream",
     "text": [
      "There are currently 3399 rows and 19 columns in the kids books dataframe.\n"
     ]
    }
   ],
   "source": [
    "# Isolating only books under 38 pages and saving into kidsbooks dataframe\n",
    "kidsbooks = books[books['pagesNumber']<=38]\n",
    "print(f'There are currently {kidsbooks.shape[0]} rows and {kidsbooks.shape[1]} columns in the kids books dataframe.')"
   ]
  },
  {
   "cell_type": "code",
   "execution_count": 5,
   "metadata": {},
   "outputs": [
    {
     "data": {
      "text/plain": [
       "(3610, 20)"
      ]
     },
     "execution_count": 5,
     "metadata": {},
     "output_type": "execute_result"
    }
   ],
   "source": [
    "# Reading in the next dataframe and doing the same\n",
    "books2 = pd.read_csv('data/book700k-800k.csv')\n",
    "\n",
    "# Pulling out only books under 38 pages to append to kidsbooks dataframe\n",
    "kb2 = books2[books2['pagesNumber']<=38]\n",
    "kb2.shape"
   ]
  },
  {
   "cell_type": "code",
   "execution_count": 6,
   "metadata": {},
   "outputs": [
    {
     "data": {
      "text/plain": [
       "(3138, 20)"
      ]
     },
     "execution_count": 6,
     "metadata": {},
     "output_type": "execute_result"
    }
   ],
   "source": [
    "# Reading in the next dataframe and doing the same\n",
    "books3 = pd.read_csv('data/book800k-900k.csv')\n",
    "\n",
    "# Pulling out only books under 38 pages to append to kidsbooks dataframe\n",
    "kb3 = books3[books3['pagesNumber']<=38]\n",
    "kb3.shape"
   ]
  },
  {
   "cell_type": "code",
   "execution_count": 7,
   "metadata": {},
   "outputs": [
    {
     "data": {
      "text/plain": [
       "(2496, 20)"
      ]
     },
     "execution_count": 7,
     "metadata": {},
     "output_type": "execute_result"
    }
   ],
   "source": [
    "# Reading in the next dataframe and doing the same\n",
    "books4 = pd.read_csv('data/book900k-1000k.csv')\n",
    "\n",
    "# Pulling out only books under 38 pages to append to kidsbooks dataframe\n",
    "kb4 = books4[books4['pagesNumber']<=38]\n",
    "kb4.shape"
   ]
  },
  {
   "cell_type": "code",
   "execution_count": 8,
   "metadata": {},
   "outputs": [
    {
     "data": {
      "text/plain": [
       "(2589, 20)"
      ]
     },
     "execution_count": 8,
     "metadata": {},
     "output_type": "execute_result"
    }
   ],
   "source": [
    "# Reading in the next dataframe and doing the same\n",
    "books5 = pd.read_csv('data/book1000k-1100k.csv')\n",
    "\n",
    "# Pulling out only books under 38 pages to append to kidsbooks dataframe\n",
    "kb5 = books5[books5['pagesNumber']<=38]\n",
    "kb5.shape"
   ]
  },
  {
   "cell_type": "code",
   "execution_count": 9,
   "metadata": {},
   "outputs": [
    {
     "data": {
      "text/plain": [
       "(2945, 20)"
      ]
     },
     "execution_count": 9,
     "metadata": {},
     "output_type": "execute_result"
    }
   ],
   "source": [
    "# Reading in the next dataframe and doing the same\n",
    "books6 = pd.read_csv('data/book1100k-1200k.csv')\n",
    "\n",
    "# Pulling out only books under 38 pages to append to kidsbooks dataframe\n",
    "kb6 = books6[books6['pagesNumber']<=38]\n",
    "kb6.shape"
   ]
  },
  {
   "cell_type": "code",
   "execution_count": 10,
   "metadata": {},
   "outputs": [
    {
     "data": {
      "text/plain": [
       "(3252, 20)"
      ]
     },
     "execution_count": 10,
     "metadata": {},
     "output_type": "execute_result"
    }
   ],
   "source": [
    "# Reading in the next dataframe and doing the same\n",
    "books7 = pd.read_csv('data/book1200k-1300k.csv')\n",
    "\n",
    "# Pulling out only books under 38 pages to append to kidsbooks dataframe\n",
    "kb7 = books7[books7['pagesNumber']<=38]\n",
    "kb7.shape"
   ]
  },
  {
   "cell_type": "code",
   "execution_count": 11,
   "metadata": {},
   "outputs": [
    {
     "data": {
      "text/plain": [
       "(2779, 20)"
      ]
     },
     "execution_count": 11,
     "metadata": {},
     "output_type": "execute_result"
    }
   ],
   "source": [
    "# Reading in the next dataframe and doing the same\n",
    "books8 = pd.read_csv('data/book1300k-1400k.csv')\n",
    "\n",
    "# Pulling out only books under 38 pages to append to kidsbooks dataframe\n",
    "kb8 = books8[books8['pagesNumber']<=38]\n",
    "kb8.shape"
   ]
  },
  {
   "cell_type": "code",
   "execution_count": 12,
   "metadata": {},
   "outputs": [
    {
     "data": {
      "text/plain": [
       "(2443, 20)"
      ]
     },
     "execution_count": 12,
     "metadata": {},
     "output_type": "execute_result"
    }
   ],
   "source": [
    "# Reading in the next dataframe and doing the same\n",
    "books9 = pd.read_csv('data/book1400k-1500k.csv')\n",
    "\n",
    "# Pulling out only books under 38 pages to append to kidsbooks dataframe\n",
    "kb9 = books9[books9['pagesNumber']<=38]\n",
    "kb9.shape"
   ]
  },
  {
   "cell_type": "code",
   "execution_count": 13,
   "metadata": {},
   "outputs": [
    {
     "data": {
      "text/plain": [
       "(2296, 20)"
      ]
     },
     "execution_count": 13,
     "metadata": {},
     "output_type": "execute_result"
    }
   ],
   "source": [
    "# Reading in the next dataframe and doing the same\n",
    "books10 = pd.read_csv('data/book1500k-1600k.csv')\n",
    "\n",
    "# Pulling out only books under 38 pages to append to kidsbooks dataframe\n",
    "kb10 = books10[books10['pagesNumber']<=38]\n",
    "kb10.shape"
   ]
  },
  {
   "cell_type": "code",
   "execution_count": 14,
   "metadata": {},
   "outputs": [
    {
     "data": {
      "text/plain": [
       "(2451, 20)"
      ]
     },
     "execution_count": 14,
     "metadata": {},
     "output_type": "execute_result"
    }
   ],
   "source": [
    "# Reading in the next dataframe and doing the same\n",
    "books11 = pd.read_csv('data/book1600k-1700k.csv')\n",
    "\n",
    "# Pulling out only books under 38 pages to append to kidsbooks dataframe\n",
    "kb11 = books11[books11['pagesNumber']<=38]\n",
    "kb11.shape"
   ]
  },
  {
   "cell_type": "code",
   "execution_count": 15,
   "metadata": {},
   "outputs": [
    {
     "data": {
      "text/plain": [
       "(2295, 19)"
      ]
     },
     "execution_count": 15,
     "metadata": {},
     "output_type": "execute_result"
    }
   ],
   "source": [
    "# Reading in the next dataframe and doing the same\n",
    "books12 = pd.read_csv('data/book1700k-1800k.csv')\n",
    "\n",
    "# Pulling out only books under 38 pages to append to kidsbooks dataframe\n",
    "kb12 = books12[books12['pagesNumber']<=38]\n",
    "kb12.shape"
   ]
  },
  {
   "cell_type": "markdown",
   "metadata": {},
   "source": [
    "#### Making a single dataset to work from: ####"
   ]
  },
  {
   "cell_type": "code",
   "execution_count": 16,
   "metadata": {},
   "outputs": [
    {
     "data": {
      "text/plain": [
       "(33693, 20)"
      ]
     },
     "execution_count": 16,
     "metadata": {},
     "output_type": "execute_result"
    }
   ],
   "source": [
    "#appending all dataframes into the kids df\n",
    "kidsbooks = kidsbooks.append([kb2, kb3, kb4, kb5, kb6, kb7, kb8, kb9, kb10, kb11, kb12])\n",
    "kidsbooks.shape"
   ]
  },
  {
   "cell_type": "markdown",
   "metadata": {},
   "source": [
    "#### An additional page number discovery: ####\n",
    "\n",
    "After looking over the contents of the dataframe of books under 38 pages, I found that there were also a number of audiobooks, teachers guides and study guides that were present. These were items that were often between 1-6 pages. To eliminate the bulk of these without accidentally eliminating board books/sensory books targeted at infants, I opted to remove any books under 4 pages and then could filter out any others by removing any publisher names with the term \"audio\" in the name. "
   ]
  },
  {
   "cell_type": "code",
   "execution_count": 17,
   "metadata": {},
   "outputs": [
    {
     "data": {
      "text/plain": [
       "(28697, 20)"
      ]
     },
     "execution_count": 17,
     "metadata": {},
     "output_type": "execute_result"
    }
   ],
   "source": [
    "#then remove books with page counts less than 4 (cheat/sheets, coles notes, guides, etc.)\n",
    "kidsbooks = kidsbooks[kidsbooks['pagesNumber']>=4]\n",
    "kidsbooks.shape"
   ]
  },
  {
   "cell_type": "code",
   "execution_count": 18,
   "metadata": {},
   "outputs": [
    {
     "data": {
      "text/plain": [
       "Id                         int64\n",
       "Name                      object\n",
       "Authors                   object\n",
       "ISBN                      object\n",
       "Rating                   float64\n",
       "PublishYear                int64\n",
       "PublishMonth               int64\n",
       "PublishDay                 int64\n",
       "Publisher                 object\n",
       "RatingDist5               object\n",
       "RatingDist4               object\n",
       "RatingDist3               object\n",
       "RatingDist2               object\n",
       "RatingDist1               object\n",
       "RatingDistTotal           object\n",
       "CountsOfReview             int64\n",
       "Language                  object\n",
       "pagesNumber                int64\n",
       "Description               object\n",
       "Count of text reviews    float64\n",
       "dtype: object"
      ]
     },
     "execution_count": 18,
     "metadata": {},
     "output_type": "execute_result"
    }
   ],
   "source": [
    "#checking the datatypes\n",
    "kidsbooks.dtypes"
   ]
  },
  {
   "cell_type": "markdown",
   "metadata": {},
   "source": [
    "Looking at the available columns, and knowing that in order to make a book recommender work well, I will need to convert all my columns to numerical ones, I have opted to drop any column deemed unnecessary for my analysis and ultimately for my model. \n",
    "\n",
    "The columns I will drop include:\n",
    "<ul>\n",
    "    <li> ID: these are the original ID number from the various originally scraped datasets and not relevant\n",
    "    <li> index: this was a previous index set prior to merging the originally scraped datasets\n",
    "    <li> RatingDist1-5 & RatingDistTotal: these columns have a ratio of ratings distribution from the Kaggle analysis that are not relevant to the purpose of my project\n",
    "    <li> Language: this column was almost entirely blank (90%) so deemed irrelevant so some Spanish, French, and other language books may be included in this dataframe. This dataset also includes many bilingual books, as parents often want to teach their kids multiple languages so I deemed any kids books, regardless of language, relevant but may need to screen these out at a later stage if it effects the performance of my recommender \n",
    "    <li> Count of text reviews: this column was included in the original dataset, though the actual text reviews were not. Because I am doing a content-based recommender, based on description, I decided to remove the text reviews counts to remove any confusion.\n",
    "</ul>\n",
    "<br>       \n",
    "**Note:** Count of text reviews is different from CountsofReview which is a column to show how many numerical reviews each book has been given. I used this column to remove any books that had 0 reviews, with plans in future versions to potentially build out the recommender using user reviews. \n",
    "\n",
    "Other steps I took in preparing this data for cleaning:\n",
    "<ul>\n",
    "    <li> Removing any rows where CountsOfReview = 0\n",
    "    <li> Replacing any columns where book description = blank with NaN (null value) and then removing all nulls in this column. The text recommender works entirely on this column so blanks are not ideal. If creating this recommender/ the data collection process from scratch, this would have been a mandatory field to have completed. \n",
    "    <li> Manually identifying children's publishers and creating a df that only included books with those publisher names (all variations) in the publisher column\n",
    "    <li> Having this list of publisher names and all of the variations in those names found throughout the dataset allowed me to identify and create and apply a standard name for each publisher \n",
    "    <li> Exporing the this qualified dataset to .csv format in order to start with just a single csv file in my second notebook, dedicated to cleaning & exploring the data"
   ]
  },
  {
   "cell_type": "code",
   "execution_count": 20,
   "metadata": {},
   "outputs": [
    {
     "data": {
      "text/html": [
       "<div>\n",
       "<style scoped>\n",
       "    .dataframe tbody tr th:only-of-type {\n",
       "        vertical-align: middle;\n",
       "    }\n",
       "\n",
       "    .dataframe tbody tr th {\n",
       "        vertical-align: top;\n",
       "    }\n",
       "\n",
       "    .dataframe thead th {\n",
       "        text-align: right;\n",
       "    }\n",
       "</style>\n",
       "<table border=\"1\" class=\"dataframe\">\n",
       "  <thead>\n",
       "    <tr style=\"text-align: right;\">\n",
       "      <th></th>\n",
       "      <th>Name</th>\n",
       "      <th>Authors</th>\n",
       "      <th>ISBN</th>\n",
       "      <th>Rating</th>\n",
       "      <th>PublishYear</th>\n",
       "      <th>PublishMonth</th>\n",
       "      <th>PublishDay</th>\n",
       "      <th>Publisher</th>\n",
       "      <th>CountsOfReview</th>\n",
       "      <th>pagesNumber</th>\n",
       "      <th>Description</th>\n",
       "    </tr>\n",
       "  </thead>\n",
       "  <tbody>\n",
       "    <tr>\n",
       "      <th>65</th>\n",
       "      <td>Cornelius T. Mouse and Sons</td>\n",
       "      <td>Christopher A. Lane</td>\n",
       "      <td>0896938441</td>\n",
       "      <td>4.0</td>\n",
       "      <td>1990</td>\n",
       "      <td>1</td>\n",
       "      <td>7</td>\n",
       "      <td>Victor</td>\n",
       "      <td>0</td>\n",
       "      <td>32</td>\n",
       "      <td>In this retelling of the New Testament parable...</td>\n",
       "    </tr>\n",
       "    <tr>\n",
       "      <th>98</th>\n",
       "      <td>David Blaine</td>\n",
       "      <td>Rochelle Scholar</td>\n",
       "      <td>0340900601</td>\n",
       "      <td>3.0</td>\n",
       "      <td>2006</td>\n",
       "      <td>1</td>\n",
       "      <td>6</td>\n",
       "      <td>Hodder Murray</td>\n",
       "      <td>0</td>\n",
       "      <td>27</td>\n",
       "      <td>Stimulating and accessible, the titles in the ...</td>\n",
       "    </tr>\n",
       "    <tr>\n",
       "      <th>124</th>\n",
       "      <td>Russell's Secret</td>\n",
       "      <td>Johanna Hurwitz</td>\n",
       "      <td>0688175740</td>\n",
       "      <td>2.7</td>\n",
       "      <td>2001</td>\n",
       "      <td>6</td>\n",
       "      <td>11</td>\n",
       "      <td>HarperCollins Publishers</td>\n",
       "      <td>8</td>\n",
       "      <td>32</td>\n",
       "      <td>Have you ever heard the words&lt;br /&gt;\"\"You can s...</td>\n",
       "    </tr>\n",
       "  </tbody>\n",
       "</table>\n",
       "</div>"
      ],
      "text/plain": [
       "                            Name              Authors        ISBN  Rating  \\\n",
       "65   Cornelius T. Mouse and Sons  Christopher A. Lane  0896938441     4.0   \n",
       "98                  David Blaine     Rochelle Scholar  0340900601     3.0   \n",
       "124             Russell's Secret      Johanna Hurwitz  0688175740     2.7   \n",
       "\n",
       "     PublishYear  PublishMonth  PublishDay                 Publisher  \\\n",
       "65          1990             1           7                    Victor   \n",
       "98          2006             1           6             Hodder Murray   \n",
       "124         2001             6          11  HarperCollins Publishers   \n",
       "\n",
       "     CountsOfReview  pagesNumber  \\\n",
       "65                0           32   \n",
       "98                0           27   \n",
       "124               8           32   \n",
       "\n",
       "                                           Description  \n",
       "65   In this retelling of the New Testament parable...  \n",
       "98   Stimulating and accessible, the titles in the ...  \n",
       "124  Have you ever heard the words<br />\"\"You can s...  "
      ]
     },
     "execution_count": 20,
     "metadata": {},
     "output_type": "execute_result"
    }
   ],
   "source": [
    "#dropping Columns ID, RatingDist5-1, and Count of text reviews (not relevant to this project)\n",
    "# Delete multiple columns from the dataframe\n",
    "kidsbooks = kidsbooks.drop([\"Id\", \"RatingDist5\", \"RatingDist4\", \"RatingDist3\", \"RatingDist2\", \"RatingDist1\", \"RatingDistTotal\", \"Language\", \"Count of text reviews\"], axis=1)\n",
    "kidsbooks.head(3)"
   ]
  },
  {
   "cell_type": "code",
   "execution_count": 21,
   "metadata": {},
   "outputs": [
    {
     "data": {
      "text/plain": [
       "(15654, 11)"
      ]
     },
     "execution_count": 21,
     "metadata": {},
     "output_type": "execute_result"
    }
   ],
   "source": [
    "#removing books that have 0 reviews reviews\n",
    "kidsbooks = kidsbooks[kidsbooks['CountsOfReview']>=1]\n",
    "kidsbooks.shape"
   ]
  },
  {
   "cell_type": "code",
   "execution_count": 22,
   "metadata": {},
   "outputs": [
    {
     "data": {
      "text/plain": [
       "(14412, 11)"
      ]
     },
     "execution_count": 22,
     "metadata": {},
     "output_type": "execute_result"
    }
   ],
   "source": [
    "#removing books where the description column is blank\n",
    "kidsbooks['Description'].replace('', np.nan, inplace=True)\n",
    "\n",
    "#dropping rows that have null values in Decription column\n",
    "kidsbooks.dropna(subset = [\"Description\"], inplace=True)\n",
    "kidsbooks.shape"
   ]
  },
  {
   "cell_type": "markdown",
   "metadata": {},
   "source": [
    "Originally, I started removing publishers that clearly didn't have kids books in the current data. I began removing any publishers with \"audio\" in the name to remove the many many audiobooks, religions, university, adult content, and museum publications but, a quick export to Excel to really take a closer look at my data (using kidsbooks.to_csv('kidsbooks.csv', header=True), made me realize that it would be easier to make a list of publishers to keep and then cleaning/narrowing down that list to make sure my recommender is as robust as possible. "
   ]
  },
  {
   "cell_type": "code",
   "execution_count": 23,
   "metadata": {},
   "outputs": [
    {
     "data": {
      "text/plain": [
       "(10612, 11)"
      ]
     },
     "execution_count": 23,
     "metadata": {},
     "output_type": "execute_result"
    }
   ],
   "source": [
    "#set up the filter of the publishers to keep\n",
    "filter = kidsbooks['Publisher'].isin([\n",
    "    \"A & C Black (Childrens books)\",\n",
    "    \"Abbeville Kids\",\n",
    "    \"Abbeville Press\",\n",
    "    \"Abbey Press\",\n",
    "    \"ABRAMS\",\n",
    "    \"Abrams Books for Young Readers\",\n",
    "    \"Accord Publishing, a division of Andrews McMeel\",\n",
    "    \"Accord, a division of Andrews McMeel Publishing\",\n",
    "    \"Aladdin\",\n",
    "    \"Aladdin Books\",\n",
    "    \"Aladdin Paperbacks\",\n",
    "    \"Alaska Northwest Books\",\n",
    "    \"Albert Whitman  Company\",\n",
    "    \"Albert Whitman & Company\",\n",
    "    \"Alfaguara\",\n",
    "    \"Alfaguara Infantil\",\n",
    "    \"Alfred A. Knopf Books for Young Readers\",\n",
    "    \"Alison Green Books\",\n",
    "    \"All about Kids Publishing\",\n",
    "    \"Alyson Books\",\n",
    "    \"American Girl Publishing Inc\",\n",
    "    \"Andersen\",\n",
    "    \"Andersen Press\",\n",
    "    \"ANDERSEN PRESS LTD\",\n",
    "    \"Andersen Press Ltd\",\n",
    "    \"Andre Deutsch\",\n",
    "    \"Annick Press\", \n",
    "    \"Arbordale Publishing\",\n",
    "    \"Arte Publico Press\",\n",
    "    \"Arthur A. Levine Books\",\n",
    "    \"Atheneum Books\", \n",
    "    \"Atheneum Books for Young Readers\",\n",
    "    \"Atheneum/Richard Jackson Books\",\n",
    "    \"August House Publishers\",\n",
    "    \"Award Publications Limited\",\n",
    "    \"B.E.S.\",\n",
    "    \"B.E.S. Publishing\",\n",
    "    \"Baby Piggy Toes\",\n",
    "    \"Baker Books\",\n",
    "    \"Bank Street\",\n",
    "    \"Bantam Books for Young Readers\",\n",
    "    \"Barefoot Books\",\n",
    "    \"Barney Publishing\",\n",
    "    \"Barron's Educational Series\",\n",
    "    \"Bear Cub Books\",\n",
    "    \"Big Tent Entertainment\",\n",
    "    \"BJU Press\",\n",
    "    \"Blackbirch Press\",\n",
    "    \"Bloomsbury\",\n",
    "    \"Bloomsbury Children's Books\",\n",
    "    \"Bloomsbury USA Childrens\", \n",
    "    \"Bloomsbury Publishing\",\n",
    "    \"Bloomsbury U.S.A Children's Books\"\n",
    "    \"Blue Apple\",\n",
    "    \"Blue Apple Books\",\n",
    "    \"Blue Sky Press\",\n",
    "    \"Bodley Head\",\n",
    "    \"Boxer Books\",\n",
    "    \"Boyds Mills Press\",\n",
    "    \"Bradbury Press\",\n",
    "    \"Bright and Early Books\",\n",
    "    \"Brighter Child\",\n",
    "    \"Brighter Child Interactive\",\n",
    "    \"Brimax Books\",\n",
    "    \"Buddy Books\", \n",
    "    \"Candlewick\",\n",
    "    \"Candlewick Press\",\n",
    "    \"Candlewick Press (MA)\",\n",
    "    \"Candy Cane Press\",\n",
    "    \"Carolrhoda Books\",\n",
    "    \"Carolrhoda Books (R)\",\n",
    "    \"Cartwheel\",\n",
    "    \"Cartwheel Books\",\n",
    "    \"Cavendish Square Publishing\",\n",
    "    \"Cedco Publishing Company\",\n",
    "    \"Chariot Victor Publishing\",\n",
    "    \"Charlesbridge\",\n",
    "    \"Charlesbridge Publishing\",\n",
    "    \"Checkerboard Books\",\n",
    "    \"Checkerboard Press\",\n",
    "    \"Chicken House\",\n",
    "    \"Child's Play International\",\n",
    "    \"Child's World\",\n",
    "    \"Children's Book Press\", \n",
    "    \"Children's Book Press (CA)\",\n",
    "    \"Children's Press\",\n",
    "    \"Children's Press (CT)\",\n",
    "    \"Children's Press (Dublin)\",\n",
    "    \"Children's Press(CT)\",\n",
    "    \"Chouette\", \n",
    "    \"Chouette Editions\",\n",
    "    \"Chouette Publishing\",\n",
    "    \"Chronicle Books\",\n",
    "    \"Chronicle Books (CA)\",\n",
    "    \"Chrysalis Books\",\n",
    "    \"Cinco Puntos Press\",\n",
    "    \"Clarion Books\",\n",
    "    \"Classics Illustrated Junior\",\n",
    "    \"Clarkson N. Potter, Inc.\",\n",
    "    \"Clarkson Potter\",\n",
    "    \"Collins\",\n",
    "    \"Compass Point Books\",\n",
    "    \"Cooper Square Pub\",\n",
    "    \"Corgi Childrens\", \n",
    "    \"Cricket Books\", \n",
    "    \"Crown Books for Young Readers\",\n",
    "    \"Crown Publishers, Inc.\",\n",
    "    \"Crown Publishing Group (NY)\",\n",
    "    \"Da Capo Press\",\n",
    "    \"Dalmatian Press\",\n",
    "    \"David C Cook\",\n",
    "    \"David Fickling Books\",\n",
    "    \"Dawn Publications\",\n",
    "    \"Dawn Publications (CA)\",\n",
    "    \"Delacorte Books for Young Readers\",\n",
    "    \"Delacorte Press\",\n",
    "    \"Dial\",\n",
    "    \"Dial Books\",\n",
    "    \"Dial Books for Young Readers\",\n",
    "    \"Dial Books Young Readers\",\n",
    "    \"Disney Editions\",\n",
    "    \"Disney Press\",\n",
    "    \"Disney-Hyperion\",\n",
    "    \"DK Children\", \n",
    "    \"DK Preschool\",\n",
    "    \"DK Publishing\",\n",
    "    \"DK Publishing (Dorling Kindersley\",\n",
    "    \"DK Publishing (Dorling Kindersley)\",\n",
    "    \"Dodd Mead\",\n",
    "    \"Dodd, Mead\",\n",
    "    \"Dorling Kindersley\",\n",
    "    \"DoubleDay\",\n",
    "    \"Doubleday\",\n",
    "    \"Doubleday Books\",\n",
    "    \"Doubleday Books for Young Readers\",\n",
    "    \"Doubleday Canada\",\n",
    "    \"Doubleday Childrens\",\n",
    "    \"Down East Books\",\n",
    "    \"Dragonfly Books\",\n",
    "    \"Dutton Books\",\n",
    "    \"Dutton Books for Young Readers\",\n",
    "    \"Dutton Children's Books\",\n",
    "    \"Dutton Juvenile\",\n",
    "    \"E.D.C. Publishing\",\n",
    "    \"Educational Development Corporation\",\n",
    "    \"Egmont\",\n",
    "    \"Egmont Books\",\n",
    "    \"Egmont Books (UK)\",\n",
    "    \"Egmont Books Ltd\",\n",
    "    \"Egmont Books, Limited\",\n",
    "    \"Egmont Childrens Books\",\n",
    "    \"Egmont UK\",\n",
    "    \"Element Books\",\n",
    "    \"Enslow Elementary\",\n",
    "    \"Farrar Straus Giroux\",\n",
    "    \"Farrar, Straus and Giroux\",\n",
    "    \"Farrar, Straus and Giroux (BYR)\",\n",
    "    \"Festival Books\",\n",
    "    \"Firefly Books\",\n",
    "    \"First Avenue Editions\",\n",
    "    \"First Avenue Editions (Tm)\",\n",
    "    \"Fitzhenry & Whiteside\",\n",
    "    \"Flashlight Press\",\n",
    "    \"Fleming H. Revell Company\",\n",
    "    \"Floris Books\",\n",
    "    \"Floris Books - Floris Books\",\n",
    "    \"Four Winds\",\n",
    "    \"Four Winds Press\",\n",
    "    \"Frances Lincoln\",\n",
    "    \"Frances Lincoln Children's Books\",\n",
    "    \"Frances Lincoln Ltd\",\n",
    "    \"Franklin Watts\",\n",
    "    \"Franklin Watts Ltd\",\n",
    "    \"Frederick Warne\",\n",
    "    \"Frederick Warne and Company\",\n",
    "    \"Free Spirit Publishing\",\n",
    "    \"Front Street, Incorporated\",\n",
    "    \"G.P. Putnam's Sons\",\n",
    "    \"G.P. Putnam's Sons\",\n",
    "    \"G.P. Putnam's Sons Books for Young Readers\",\n",
    "    \"Gagne International Press\",\n",
    "    \"Gallaudet University Press\",\n",
    "    \"Gallimard\",\n",
    "    \"Gallimard Jeunesse\",\n",
    "    \"Gareth Stevens Publishers\",\n",
    "    \"Garlic Press\",\n",
    "    \"Gibbs Smith\",\n",
    "    \"Gibbs Smith Publishers\",\n",
    "    \"Gingham Dog Press\",\n",
    "    \"Golden Books\",\n",
    "    \"Golden Books (Random House)\",\n",
    "    \"Golden Books Publishing Company\",\n",
    "    \"Golden Books / Western Publishing Company, Inc.\",\n",
    "    \"Golden Books Publishing Company, Inc.\",\n",
    "    \"Golden Press\",\n",
    "    \"Golden/Disney\",\n",
    "    \"Goldencraft\",\n",
    "    \"Good Books\",\n",
    "    \"Good Night Books\",\n",
    "    \"Gramercy\",\n",
    "    \"Greenwillow Books\",\n",
    "    \"Grosset & Dunlap\",\n",
    "    \"Groundwood Books\",\n",
    "    \"GT Publishing Corporation\",\n",
    "    \"GuidepostsBooks\",\n",
    "    \"Gullane Children's Books\",\n",
    "    \"Gullane Children's Books Ltd\",\n",
    "    \"Handprint Books\",\n",
    "    \"Happy Cat Books (UK)\",\n",
    "    \"Harbour Publishing\",\n",
    "    \"Harcourt\",\n",
    "    \"Harcourt Brace\",\n",
    "    \"Harcourt Brace & Company\",\n",
    "    \"Harcourt Brace and Company\",\n",
    "    \"Harcourt Brace Jovanich\",\n",
    "    \"Harcourt Brace Jovanovich\",\n",
    "    \"Harcourt Children's Books\",\n",
    "    \"Harper & Row\",\n",
    "    \"Harper Collins\",\n",
    "    \"Harpercoll\",\n",
    "    \"HarperCollins\",\n",
    "    \"HarperCollins (UK)\",\n",
    "    \"HarperCollins Children's Books\",\n",
    "    \"HarperCollins Publishers\",\n",
    "    \"HarperCollins UK\",\n",
    "    \"HarperCollinsChildren'sBooks\",\n",
    "    \"HarperCollinsChildren‚ÄôsBooks\",\n",
    "    \"HarperCollinsPublishers\",\n",
    "    \"HarperEntertainment\",\n",
    "    \"HarperFestival\",\n",
    "    \"HarperTrophy\",\n",
    "    \"Harrison House\",\n",
    "    \"Harry N. Abrams\",\n",
    "    \"Henry Holt & Company\",\n",
    "    \"Henry Holt and Co.\",\n",
    "    \"Henry Holt and Co. (BYR)\",\n",
    "    \"Henry Holt and Co. BYR Paperbacks\",\n",
    "    \"Henry Holt and Company\",\n",
    "    \"HMH Books for Young Readers\",\n",
    "    \"Hodder & Stoughton\",\n",
    "    \"Hodder Children's Books\",\n",
    "    \"Holiday House\",\n",
    "    \"Holt McDougal\",\n",
    "    \"Holt, Rinehart and Winston, Inc.\",\n",
    "    \"Hoopoe Books\",\n",
    "    \"Houghon Mifflin\",\n",
    "    \"Houghton Mifflin Company\",\n",
    "    \"Houghton Mifflin Harcourt\",\n",
    "    \"Houghton Mifflin Harcourt P\",\n",
    "    \"Hyperion\",\n",
    "    \"Hyperion Books\",\n",
    "    \"Hyperion Books for Children\",\n",
    "    \"Illumination Arts Publishing Company\",\n",
    "    \"innovative KIDS\",\n",
    "    \"Innovative Kids\",\n",
    "    \"Insight Kids\",\n",
    "    \"It Books\", \n",
    "    \"Joy Street Books\",\n",
    "    \"Jump At The Sun\",\n",
    "    \"Just Us Books\",\n",
    "    \"Juventud\",\n",
    "    \"Kane Press\",\n",
    "    \"Kane/Miller\",\n",
    "    \"Kane/Miller Book Publishers\",\n",
    "    \"Kar-Ben Publishing\",\n",
    "    \"Kar-Ben Publishing (R)\",\n",
    "    \"Kar-Ben Publishing (Tm)\",\n",
    "    \"Katherine Tegen Books\",\n",
    "    \"Kids Can Press\",\n",
    "    \"Kingfisher\",\n",
    "    \"Knopf Books for Young Readers\",\n",
    "    \"KO Kids Books\",\n",
    "    \"Kregel Kidzone\",\n",
    "    \"L,B Kids\",\n",
    "    \"Ladybird Books\",\n",
    "    \"Ladybird Books Ltd\",\n",
    "    \"Lark Books\",\n",
    "    \"LB Kids\",\n",
    "    \"Learning Horizons\",\n",
    "    \"Lee & Low Books\",\n",
    "    \"Lemniscaat USA\",\n",
    "    \"Lincoln Children's Books\",\n",
    "    \"Little Simon\",\n",
    "    \"Little Simon (an imprint of Simon and Schuster, Inc.)\",\n",
    "    \"Little Tiger Press\",\n",
    "    \"Little, Brown Books for Young Readers\",\n",
    "    \"Little, Brown Young Readers\",\n",
    "    \"Lobster Press\",\n",
    "    \"London Town Press\",\n",
    "    \"Lothian Books\",\n",
    "    \"Lothrop, Lee & Shepard\",\n",
    "    \"Lothrop, Lee and Shepard\",\n",
    "    \"Lothrop, Lee and Shepard Books\",\n",
    "    \"MacAdam/Cage Publishing\",\n",
    "    \"Mackinac Island Press\",\n",
    "    \"Macmillan Children's Books\",\n",
    "    \"MacMillan Publishing Company\",\n",
    "    \"MacMillan UK\",\n",
    "    \"Magi Publications\",\n",
    "    \"Magic School Bus\",\n",
    "    \"Magination Press\",\n",
    "    \"Make Believe Ideas\",\n",
    "    \"Mammoth\",\n",
    "    \"Margaret K. McElderry\",\n",
    "    \"Margaret K. McElderry Books\",\n",
    "    \"MarshMedia\",\n",
    "    \"McArthur & Company\",\n",
    "    \"McClanahan Book Company\",\n",
    "    \"McGraw-Hill Companies\",\n",
    "    \"Meadowbrook\",\n",
    "    \"Meadowbrook Press\",\n",
    "    \"Megan Tingley Books\",\n",
    "    \"Melanie Kroupa Books\",\n",
    "    \"Mercury Books\",\n",
    "    \"Michael Di Capua Books\",\n",
    "    \"Milet Publishing\",\n",
    "    \"Milk & Cookies\",\n",
    "    \"Millbrook Press (Tm)\",\n",
    "    \"Minedition\",\n",
    "    \"Mitten Press\",\n",
    "    \"Modern Curriculum Press\",\n",
    "    \"Modern Publishing\",\n",
    "    \"Mondo Publishing\",\n",
    "    \"Monterey Bay Aquarium Press\",\n",
    "    \"Moo Press\",\n",
    "    \"Moon Mountain Publishing\",\n",
    "    \"Morrow Junior Books\",\n",
    "    \"Mulberry Books\",\n",
    "    \"Nantier Beall Minoustchine Publishing\",\n",
    "    \"National Center for Youth Issues\",\n",
    "    \"National Geographic Children's\",\n",
    "    \"National Geographic Children's Books\",\n",
    "    \"National Geographic Society\",\n",
    "    \"Nelson Publishing & Marketing\",\n",
    "    \"New York Review Children's Collection\",\n",
    "    \"Night Sky\",\n",
    "    \"North-South\",\n",
    "    \"North-South Books\",\n",
    "    \"Northland Publishing\",\n",
    "    \"NorthSouth\",\n",
    "    \"NorthSouth (NY)\",\n",
    "    \"NorthSouth Books\",\n",
    "    \"Northword Press\",\n",
    "    \"Orca Book Publishers\",\n",
    "    \"Orchard\",\n",
    "    \"Orchard (NY)\",\n",
    "    \"Orchard Books\",\n",
    "    \"Orchard Books (NY)\",\n",
    "    \"Orchard,\",\n",
    "    \"Owlkids Books\",\n",
    "    \"Oxford\",\n",
    "    \"Oxford University Press\",\n",
    "    \"Oxford University Press, USA\",\n",
    "    \"Pan Childrens\",\n",
    "    \"Pan Macmillan\",\n",
    "    \"Pantheon Books\",\n",
    "    \"Parenting Press\",\n",
    "    \"Parents Magazine Press\",\n",
    "    \"Peachtree Publishers\",\n",
    "    \"Peachtree Publishing Company\",\n",
    "    \"Penguin Young Readers\",\n",
    "    \"Penton Kids\",\n",
    "    \"Philomel\",\n",
    "    \"Philomel Books\",\n",
    "    \"Picture Book Studio Ltd\",\n",
    "    \"Picture Corgi\",\n",
    "    \"Picture Puffin Books\",\n",
    "    \"Picture Puffins\",\n",
    "    \"Picture Window Books\",\n",
    "    \"Piggy Toes Press\",\n",
    "    \"Pinata Books\",\n",
    "    \"Price Stern Sloan\",\n",
    "    \"Priddy Books\",\n",
    "    \"Priddy Books Us\",\n",
    "    \"Priddy Books US\",\n",
    "    \"Puffin\",\n",
    "    \"Puffin Bks\",\n",
    "    \"Puffin Books\",\n",
    "    \"Pumpkin House\",\n",
    "    \"Pumpkin House, Ltd.\",\n",
    "    \"Purple Bear Books\",\n",
    "    \"Putnam Juvenile\",\n",
    "    \"Putnam Publishing Group\",\n",
    "    \"R & S Books\",\n",
    "    \"Rainbow Morning Music\",\n",
    "    \"Raincoast Books\",\n",
    "    \"Raintree\",\n",
    "    \"Ramsey Solutions Inc\",\n",
    "    \"Rand McNally\",\n",
    "    \"Random House\",\n",
    "    \"Random House (NY)\",\n",
    "    \"Random House Books for Young Readers\",\n",
    "    \"Random House Children's Books\",\n",
    "    \"Random House Disney\",\n",
    "    \"Random House UK\",\n",
    "    \"Random House USA Inc\",\n",
    "    \"Random House Value Publishing\",\n",
    "    \"Raven Tree Press\",\n",
    "    \"Reader's Digest\",\n",
    "    \"Reader's Digest Association\",\n",
    "    \"Reader's Digest Children's Books\",\n",
    "    \"Reader's Digest Young Families\",\n",
    "    \"Red Fox\",\n",
    "    \"Red Fox Books\",\n",
    "    \"RED FOX BOOKS (RAND)\",\n",
    "    \"Red Fox Mini Treasure\",\n",
    "    \"Red Fox Picture Books\",\n",
    "    \"Red Wagon Books\",\n",
    "    \"RH/Disney\",\n",
    "    \"Rising Moon Books\",\n",
    "    \"Roaring Brook Press\",\n",
    "    \"Roberts Rinehart Publishers\",\n",
    "    \"Robin Corey Books\",\n",
    "    \"Running Press Kids\",\n",
    "    \"Salina Bookshelf\",\n",
    "    \"Salina Bookshelf, Inc.\",\n",
    "    \"Sasquatch Books\",\n",
    "    \"Scholastic\",\n",
    "    \"Scholastic Book Services\",\n",
    "    \"Scholastic Canada\",\n",
    "    \"Scholastic en Espanol\",\n",
    "    \"Scholastic en español\",\n",
    "    \"Scholastic Inc\",\n",
    "    \"Scholastic Inc.\",\n",
    "    \"Scholastic Paperbacks\",\n",
    "    \"Scholastic Press\",\n",
    "    \"Scholastic, Inc.\",\n",
    "    \"Schwartz & Wade\",\n",
    "    \"Schwartz & Wade Books\",\n",
    "    \"Scribble  Sons\",\n",
    "    \"Silver Dolphin\",\n",
    "    \"Silver Dolphin Books\",\n",
    "    \"Simon  Schuster Books for Young Readers\",\n",
    "    \"Simon  Schuster/Paula Wiseman Books\",\n",
    "    \"Simon & Schuster\",\n",
    "    \"Simon & Schuster Books for Young Readers\",\n",
    "    \"Simon & Schuster Children's\",\n",
    "    \"Simon & Schuster Children's Books\",\n",
    "    \"Simon & Schuster Children's Publishing\",\n",
    "    \"Simon & Schuster Ltd\",\n",
    "    \"Simon and Schuster\",\n",
    "    \"Simon Spotlight\",\n",
    "    \"Simon Spotlight / Nickelodeon\",\n",
    "    \"Simon Spotlight Entertainment\",\n",
    "    \"Simply Read Books\",\n",
    "    \"Sleeping Bear Press\",\n",
    "    \"Smart Kidz Publishing\",\n",
    "    \"Smithmark Publishers\",\n",
    "    \"Square Fish\",\n",
    "    \"St Martins Press\",\n",
    "    \"St. Martin's Griffin\",\n",
    "    \"St. Martin's Press\",\n",
    "    \"Sterling\",\n",
    "    \"Sterling Publishing (NY)\",\n",
    "    \"Sterling/Pinwheel\",\n",
    "    \"Stone Arch Books\",\n",
    "    \"Tamarind\",\n",
    "    \"The Chicken House\",\n",
    "    \"The Gryphon Press\",\n",
    "    \"Tiger Tales.\",\n",
    "    \"Tilbury House Publishers\",\n",
    "    \"Toys 'n Things Press\",\n",
    "    \"Tricycle Press\",\n",
    "    \"Troll Associates\",\n",
    "    \"Troll Communications\",\n",
    "    \"Trophy Picture Bks\",\n",
    "    \"Tuckamore Books\",\n",
    "    \"Tundra Books\",\n",
    "    \"Turtleback Books\",\n",
    "    \"Tuttle Publishing\",\n",
    "    \"Two Kids Productions\",\n",
    "    \"Two Lions\",\n",
    "    \"Two Little Hands Productions\",\n",
    "    \"Two Lives Publishing\",\n",
    "    \"Upstart Books\",\n",
    "    \"Usborne\",\n",
    "    \"Usborne / E.D.C. Publishing\",\n",
    "    \"Usborne Books\",\n",
    "    \"Usborne Publishing Ltd\",\n",
    "    \"Viking Books\",\n",
    "    \"Viking Books for Young Readers\",\n",
    "    \"Viking Children's Books\",\n",
    "    \"Viking Juvenile\",\n",
    "    \"Viking Picture Books\",\n",
    "    \"Viking/Puffin,\",\n",
    "    \"Volo\",\n",
    "    \"Walker\",\n",
    "    \"Walker & Company\",\n",
    "    \"Walker Books\",\n",
    "    \"Walker Books and Subsidiaries\",\n",
    "    \"Walker Books Ltd\",\n",
    "    \"Walker Books LTD\",\n",
    "    \"Walker Childrens\",\n",
    "    \"Walker Childrens Paperbacks\",\n",
    "    \"Walker,\",\n",
    "    \"Walrus Books\",\n",
    "    \"Warne\",\n",
    "    \"Western Publishing Company\",\n",
    "    \"Western Publishing Company, Inc.\",\n",
    "    \"Western Publishing Company, Inc./Golden Books\",\n",
    "    \"WordSong\",\n",
    "    \"WorthyKids\",\n",
    "    \"Zero To Ten\",\n",
    "    \" \"  #where publisher is blank - (I will later convert to unknown)\n",
    "    ])\n",
    "\n",
    "#apply the filter\n",
    "kbs = kidsbooks[filter]\n",
    "kbs.shape"
   ]
  },
  {
   "cell_type": "code",
   "execution_count": 24,
   "metadata": {},
   "outputs": [],
   "source": [
    "kbs.to_csv('kidsbooks.csv', header=True)"
   ]
  },
  {
   "cell_type": "markdown",
   "metadata": {},
   "source": [
    "**Note:** Project continued in notebook number 2 of 3: Cleaning and EDA"
   ]
  }
 ],
 "metadata": {
  "kernelspec": {
   "display_name": "Python 3",
   "language": "python",
   "name": "python3"
  },
  "language_info": {
   "codemirror_mode": {
    "name": "ipython",
    "version": 3
   },
   "file_extension": ".py",
   "mimetype": "text/x-python",
   "name": "python",
   "nbconvert_exporter": "python",
   "pygments_lexer": "ipython3",
   "version": "3.7.6"
  }
 },
 "nbformat": 4,
 "nbformat_minor": 4
}
