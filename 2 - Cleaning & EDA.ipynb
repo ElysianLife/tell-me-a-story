{
 "cells": [
  {
   "cell_type": "markdown",
   "metadata": {},
   "source": [
    "# Capstone Project: Tell Me a Story...#\n",
    "\n",
    "Elyse Renouf   **|**   July 31, 2020   "
   ]
  },
  {
   "cell_type": "markdown",
   "metadata": {},
   "source": [
    "Tell Me A Story (TMAS) is a content-based young children's book recommender using NLP that is derived from a Kaggle dataset of Goodreads.com book reviews. It was created so parents could input one of their child's favourite books and TMAS can recommend other similar books to read based entirely on key words in the book descriptions. \n",
    "\n",
    "**Please Note:** This is notebook 2 of 3 that were used to build the final product. This notebook includes all the steps I took to clean the dataset and do some initial exploratory data analysis (EDA). \n",
    "\n",
    "<hr>\n",
    "\n",
    "### Cleaning & EDA ###\n",
    "\n",
    "After all the steps completed in notebook 1 of 3, I now have a single .csv with mostly children's books and it was time to do a deeper clean and create consistency in the text, assign datatypes, manually search through and excluding all non-children's publishers (or including ONLY children's publishers, which ended up being more efficient) and then exporting that finalized .csv file for safekeeping in preparation of my Vectorizing and Modelling steps in notebook 3 of 3.   "
   ]
  },
  {
   "cell_type": "code",
   "execution_count": 1,
   "metadata": {},
   "outputs": [],
   "source": [
    "#import needed packages\n",
    "import numpy as np\n",
    "import pandas as pd\n",
    "import matplotlib.pyplot as plt\n",
    "import seaborn as sns"
   ]
  },
  {
   "cell_type": "code",
   "execution_count": 2,
   "metadata": {},
   "outputs": [
    {
     "data": {
      "text/plain": [
       "index               int64\n",
       "Name               object\n",
       "Authors            object\n",
       "ISBN               object\n",
       "Rating            float64\n",
       "PublishYear         int64\n",
       "PublishMonth        int64\n",
       "PublishDay          int64\n",
       "Publisher          object\n",
       "CountsOfReview      int64\n",
       "pagesNumber         int64\n",
       "Description        object\n",
       "dtype: object"
      ]
     },
     "execution_count": 2,
     "metadata": {},
     "output_type": "execute_result"
    }
   ],
   "source": [
    "#read in the simplified kidsbooks dataset\n",
    "kidsbooks = pd.read_csv('data/kidsbooks.csv', index_col=0)\n",
    "kidsbooks.dtypes"
   ]
  },
  {
   "cell_type": "markdown",
   "metadata": {},
   "source": [
    "#### General DF Housekeeping:####"
   ]
  },
  {
   "cell_type": "code",
   "execution_count": 3,
   "metadata": {},
   "outputs": [],
   "source": [
    "#converting rating column from float to integer to match other numerical columns - with rounding\n",
    "#converting rating into integers from 1-10\n",
    "kidsbooks['Rating'] = kidsbooks['Rating'].round().astype('int')"
   ]
  },
  {
   "cell_type": "code",
   "execution_count": 4,
   "metadata": {},
   "outputs": [],
   "source": [
    "#resetting the letter case of all column headers to lowercase\n",
    "kidsbooks.columns = kidsbooks.columns.str.lower()\n",
    "#kidsbooks.head(3)"
   ]
  },
  {
   "cell_type": "code",
   "execution_count": 5,
   "metadata": {},
   "outputs": [],
   "source": [
    "#drop the extra 'index' column \n",
    "kidsbooks = kidsbooks.drop(['index'], axis=1)\n",
    "#kidsbooks.reset_index(inplace = True)"
   ]
  },
  {
   "cell_type": "code",
   "execution_count": 6,
   "metadata": {},
   "outputs": [],
   "source": [
    "#Setting string type and lower case each of the text columns\n",
    "kidsbooks['name'] = kidsbooks['name'].astype(str).str.lower()\n",
    "kidsbooks['authors'] = kidsbooks['authors'].astype(str).str.lower()\n",
    "kidsbooks['publisher'] = kidsbooks['publisher'].astype(str).str.lower()\n",
    "kidsbooks['description'] = kidsbooks['description'].astype(str).str.lower()"
   ]
  },
  {
   "cell_type": "markdown",
   "metadata": {},
   "source": [
    "#### Cleaning Steps on Publisher Column:####"
   ]
  },
  {
   "cell_type": "code",
   "execution_count": 7,
   "metadata": {},
   "outputs": [],
   "source": [
    "#cleaning up multiple variations in publisher names from list above\n",
    "#starting with a test (most variation in names) - publisher harper collins\n",
    "kidsbooks.loc[kidsbooks['publisher'].str.contains('harper'), 'publisher'] = 'harpercollins'"
   ]
  },
  {
   "cell_type": "code",
   "execution_count": 8,
   "metadata": {},
   "outputs": [
    {
     "data": {
      "text/html": [
       "<div>\n",
       "<style scoped>\n",
       "    .dataframe tbody tr th:only-of-type {\n",
       "        vertical-align: middle;\n",
       "    }\n",
       "\n",
       "    .dataframe tbody tr th {\n",
       "        vertical-align: top;\n",
       "    }\n",
       "\n",
       "    .dataframe thead th {\n",
       "        text-align: right;\n",
       "    }\n",
       "</style>\n",
       "<table border=\"1\" class=\"dataframe\">\n",
       "  <thead>\n",
       "    <tr style=\"text-align: right;\">\n",
       "      <th></th>\n",
       "      <th>name</th>\n",
       "      <th>authors</th>\n",
       "      <th>isbn</th>\n",
       "      <th>rating</th>\n",
       "      <th>publishyear</th>\n",
       "      <th>publishmonth</th>\n",
       "      <th>publishday</th>\n",
       "      <th>publisher</th>\n",
       "      <th>countsofreview</th>\n",
       "      <th>pagesnumber</th>\n",
       "      <th>description</th>\n",
       "    </tr>\n",
       "  </thead>\n",
       "  <tbody>\n",
       "    <tr>\n",
       "      <th>0</th>\n",
       "      <td>russell's secret</td>\n",
       "      <td>johanna hurwitz</td>\n",
       "      <td>0688175740</td>\n",
       "      <td>3</td>\n",
       "      <td>2001</td>\n",
       "      <td>6</td>\n",
       "      <td>11</td>\n",
       "      <td>harpercollins</td>\n",
       "      <td>8</td>\n",
       "      <td>32</td>\n",
       "      <td>have you ever heard the words&lt;br /&gt;\"\"you can s...</td>\n",
       "    </tr>\n",
       "    <tr>\n",
       "      <th>12</th>\n",
       "      <td>mrs. mcnosh and the great big squash</td>\n",
       "      <td>sarah weeks</td>\n",
       "      <td>0694012025</td>\n",
       "      <td>4</td>\n",
       "      <td>2000</td>\n",
       "      <td>22</td>\n",
       "      <td>8</td>\n",
       "      <td>harpercollins</td>\n",
       "      <td>38</td>\n",
       "      <td>24</td>\n",
       "      <td>your 3-year-old loves the silliness of outrage...</td>\n",
       "    </tr>\n",
       "    <tr>\n",
       "      <th>42</th>\n",
       "      <td>floating in space</td>\n",
       "      <td>franklyn mansfield branley</td>\n",
       "      <td>0064451429</td>\n",
       "      <td>4</td>\n",
       "      <td>1998</td>\n",
       "      <td>3</td>\n",
       "      <td>1</td>\n",
       "      <td>harpercollins</td>\n",
       "      <td>11</td>\n",
       "      <td>32</td>\n",
       "      <td>&lt;strong&gt;don't jump! if you're on the space shu...</td>\n",
       "    </tr>\n",
       "  </tbody>\n",
       "</table>\n",
       "</div>"
      ],
      "text/plain": [
       "                                    name                     authors  \\\n",
       "0                       russell's secret             johanna hurwitz   \n",
       "12  mrs. mcnosh and the great big squash                 sarah weeks   \n",
       "42                     floating in space  franklyn mansfield branley   \n",
       "\n",
       "          isbn  rating  publishyear  publishmonth  publishday      publisher  \\\n",
       "0   0688175740       3         2001             6          11  harpercollins   \n",
       "12  0694012025       4         2000            22           8  harpercollins   \n",
       "42  0064451429       4         1998             3           1  harpercollins   \n",
       "\n",
       "    countsofreview  pagesnumber  \\\n",
       "0                8           32   \n",
       "12              38           24   \n",
       "42              11           32   \n",
       "\n",
       "                                          description  \n",
       "0   have you ever heard the words<br />\"\"you can s...  \n",
       "12  your 3-year-old loves the silliness of outrage...  \n",
       "42  <strong>don't jump! if you're on the space shu...  "
      ]
     },
     "execution_count": 8,
     "metadata": {},
     "output_type": "execute_result"
    }
   ],
   "source": [
    "#verify results of change\n",
    "checkpub = kidsbooks.loc[kidsbooks['publisher'].str.contains(\"harper*\")]\n",
    "checkpub.head(3)"
   ]
  },
  {
   "cell_type": "code",
   "execution_count": 9,
   "metadata": {},
   "outputs": [],
   "source": [
    "#Now applying that same concept to the rest of the duplicated/variated publisher names\n",
    "\n",
    "#replacing multiple versions of this publisher name with abbevillepress\n",
    "kidsbooks.loc[kidsbooks['publisher'].str.contains('abbeville'), 'publisher'] = 'abbeville press'\n",
    "\n",
    "#replacing multiple versions of this publisher name with abramsbooks\n",
    "kidsbooks.loc[kidsbooks['publisher'].str.contains('abrams'), 'publisher'] = 'abrams books'\n",
    "\n",
    "#replacing multiple versions of this publisher name with accordpublishing\n",
    "kidsbooks.loc[kidsbooks['publisher'].str.contains('accord'), 'publisher'] = 'accord publishing'\n",
    "\n",
    "#replacing multiple versions of this publisher name with aladdinbooks\n",
    "kidsbooks.loc[kidsbooks['publisher'].str.contains('aladdin'), 'publisher'] = 'aladdin books'\n",
    "\n",
    "#replacing multiple versions of this publisher name with albertwhitman\n",
    "kidsbooks.loc[kidsbooks['publisher'].str.contains('albert whitm*'), 'publisher'] = 'albert whitman'\n",
    "\n",
    "#replacing multiple versions of this publisher name with alfaguara\n",
    "kidsbooks.loc[kidsbooks['publisher'].str.contains('alfaguara'), 'publisher'] = 'alfaguara'\n",
    "\n",
    "#replacing multiple versions of this publisher name with andersenpress\n",
    "kidsbooks.loc[kidsbooks['publisher'].str.contains('andersen'), 'publisher'] = 'andersen press'\n",
    "\n",
    "#replacing multiple versions of this publisher name with atheneum books\n",
    "kidsbooks.loc[kidsbooks['publisher'].str.contains('atheneum'), 'publisher'] = 'atheneum books'\n",
    "\n",
    "#replacing multiple versions of this publisher name with bes publishing\n",
    "kidsbooks.loc[kidsbooks['publisher'].str.contains('b.e.s'), 'publisher'] = 'bes publishing'\n",
    "\n",
    "#replacing multiple versions of this publisher name with bloomsbury publishing\n",
    "kidsbooks.loc[kidsbooks['publisher'].str.contains('bloomsbury'), 'publisher'] = 'bloomsbury publishing'\n",
    "\n",
    "#replacing multiple versions of this publisher name with blue apple books\n",
    "kidsbooks.loc[kidsbooks['publisher'].str.contains('blue apple'), 'publisher'] = 'blue apple books'\n",
    "\n",
    "#replacing multiple versions of this publisher name with brighter child\n",
    "kidsbooks.loc[kidsbooks['publisher'].str.contains('brighter child'), 'publisher'] = 'brighter child'\n",
    "\n",
    "#replacing multiple versions of this publisher name with candlewick press\n",
    "kidsbooks.loc[kidsbooks['publisher'].str.contains('candlewick'), 'publisher'] = 'candlewick press'\n",
    "\n",
    "#replacing multiple versions of this publisher name with carolrhoda books\n",
    "kidsbooks.loc[kidsbooks['publisher'].str.contains('carolrhoda'), 'publisher'] = 'carolrhoda books'\n",
    "\n",
    "#replacing multiple versions of this publisher name with cartwheel books\n",
    "kidsbooks.loc[kidsbooks['publisher'].str.contains('cartwheel'), 'publisher'] = 'cartwheel books'\n",
    "\n",
    "#replacing multiple versions of this publisher name with charlesbridge publishing\n",
    "kidsbooks.loc[kidsbooks['publisher'].str.contains('charlesbridge'), 'publisher'] = 'charlesbridge publishing'\n",
    "\n",
    "#replacing multiple versions of this publisher name with checkerboard books\n",
    "kidsbooks.loc[kidsbooks['publisher'].str.contains('checkerboard'), 'publisher'] = 'checkerboard books'\n",
    "\n",
    "#replacing multiple versions of this publisher name with childrens book press\n",
    "kidsbooks.loc[kidsbooks['publisher'].str.contains(\"children's\"), 'publisher'] = 'childrens book press'\n",
    "\n",
    "#replacing multiple versions of this publisher name with chouette publishing\n",
    "kidsbooks.loc[kidsbooks['publisher'].str.contains('chouette'), 'publisher'] = 'chouette publishing'\n",
    "\n",
    "#replacing multiple versions of this publisher name with chronicle books\n",
    "kidsbooks.loc[kidsbooks['publisher'].str.contains('chronicle'), 'publisher'] = 'chronicle books'\n",
    "\n",
    "#replacing multiple versions of this publisher name with clarkson potter\n",
    "kidsbooks.loc[kidsbooks['publisher'].str.contains('clarkson potter'), 'publisher'] = 'clarkson potter'\n",
    "\n",
    "#replacing multiple versions of this publisher name with crown publishing\n",
    "kidsbooks.loc[kidsbooks['publisher'].str.contains('crown'), 'publisher'] = 'crown publishing'\n",
    "\n",
    "#replacing multiple versions of this publisher name with dawn publications\n",
    "kidsbooks.loc[kidsbooks['publisher'].str.contains('dawn'), 'publisher'] = 'dawn publications'\n",
    "\n",
    "#replacing multiple versions of this publisher name with delacorte books\n",
    "kidsbooks.loc[kidsbooks['publisher'].str.contains('delacorte'), 'publisher'] = 'delacorte books'\n",
    "\n",
    "#replacing multiple versions of this publisher name with dial books\n",
    "kidsbooks.loc[kidsbooks['publisher'].str.contains('dial'), 'publisher'] = 'dial books'\n",
    "\n",
    "#replacing multiple versions of this publisher name with disney\n",
    "kidsbooks.loc[kidsbooks['publisher'].str.contains('disney'), 'publisher'] = 'disney press'\n",
    "\n",
    "#replacing multiple versions of this publisher name with dorling kindersley\n",
    "kidsbooks.loc[kidsbooks['publisher'].str.contains('dk'), 'publisher'] = 'dorling kindersley'\n",
    "\n",
    "#replacing multiple versions of this publisher name with dodd mead\n",
    "kidsbooks.loc[kidsbooks['publisher'].str.contains('dodd'), 'publisher'] = 'dodd mead'\n",
    "\n",
    "#replacing multiple versions of this publisher name with doubleday books\n",
    "kidsbooks.loc[kidsbooks['publisher'].str.contains('doubleday'), 'publisher'] = 'doubleday books'\n",
    "\n",
    "#replacing multiple versions of this publisher name with dutton books\n",
    "kidsbooks.loc[kidsbooks['publisher'].str.contains('dutton'), 'publisher'] = 'dutton books'"
   ]
  },
  {
   "cell_type": "code",
   "execution_count": 10,
   "metadata": {},
   "outputs": [],
   "source": [
    "#Now applying that same concept to the rest of the duplicated/variated publisher names (CONT'D from above)\n",
    "\n",
    "#replacing multiple versions of this publisher name with educational development corporation\n",
    "kidsbooks.loc[kidsbooks['publisher'].str.contains('e.d.c'), 'publisher'] = 'educational development corporation'\n",
    "\n",
    "#replacing multiple versions of this publisher name with egmont books\n",
    "kidsbooks.loc[kidsbooks['publisher'].str.contains('egmont'), 'publisher'] = 'egmont books'\n",
    "\n",
    "#replacing multiple versions of this publisher name with farrar straus giroux\n",
    "kidsbooks.loc[kidsbooks['publisher'].str.contains('farrar'), 'publisher'] = 'farrar straus giroux'\n",
    "   \n",
    "#replacing multiple versions of this publisher name with first avenue editions\n",
    "kidsbooks.loc[kidsbooks['publisher'].str.contains('first avenue'), 'publisher'] = 'first avenue editions'\n",
    "   \n",
    "#replacing multiple versions of this publisher name with floris books\n",
    "kidsbooks.loc[kidsbooks['publisher'].str.contains('floris'), 'publisher'] = 'floris books'\n",
    "    \n",
    "#replacing multiple versions of this publisher name with four winds press\n",
    "kidsbooks.loc[kidsbooks['publisher'].str.contains('four winds'), 'publisher'] = 'four winds press'\n",
    "\n",
    "#replacing multiple versions of this publisher name with frances lincoln\n",
    "kidsbooks.loc[kidsbooks['publisher'].str.contains('frances lincoln'), 'publisher'] = 'frances lincoln'\n",
    "\n",
    "#replacing multiple versions of this publisher name with franklin watts\n",
    "kidsbooks.loc[kidsbooks['publisher'].str.contains('franklin watts'), 'publisher'] = 'franklin watts'\n",
    "\n",
    "#replacing multiple versions of this publisher name with frederick warne\n",
    "kidsbooks.loc[kidsbooks['publisher'].str.contains('frederick warne'), 'publisher'] = 'frederick warne'\n",
    "\n",
    "#replacing multiple versions of this publisher name with gp putnams sons\n",
    "kidsbooks.loc[kidsbooks['publisher'].str.contains('g.p.'), 'publisher'] = 'gp putnams sons'\n",
    "\n",
    "#replacing multiple versions of this publisher name with gallimard\n",
    "kidsbooks.loc[kidsbooks['publisher'].str.contains('gallimard'), 'publisher'] = 'gallimard'\n",
    "\n",
    "#replacing multiple versions of this publisher name with gibbs smith publishers\n",
    "kidsbooks.loc[kidsbooks['publisher'].str.contains('gibbs smith'), 'publisher'] = 'gibbs smith publishers'\n",
    "\n",
    "#replacing multiple versions of this publisher name with golden books\n",
    "kidsbooks.loc[kidsbooks['publisher'].str.contains('golden books'), 'publisher'] = 'golden books' #can't use just \"golden\" bc of other publishers\n",
    "kidsbooks.loc[kidsbooks['publisher'].str.contains('golden press'), 'publisher'] = 'golden books' \n",
    "    \n",
    "#replacing multiple versions of this publisher name with gullane childrens books\n",
    "kidsbooks.loc[kidsbooks['publisher'].str.contains('gullane'), 'publisher'] = 'gullane childrens books'   \n",
    "\n",
    "#replacing multiple versions of this publisher name with harcourt books\n",
    "kidsbooks.loc[kidsbooks['publisher'].str.contains('harcourt'), 'publisher'] = 'harcourt books'   \n",
    "kidsbooks.loc[kidsbooks['publisher'].str.contains('houghon'), 'publisher'] = 'harcourt books' #houghton mifflin a div of harcourt\n",
    "\n",
    "#replacing multiple versions of this publisher name with henry holt and co\n",
    "kidsbooks.loc[kidsbooks['publisher'].str.contains('henry holt'), 'publisher'] = 'henry holt and co'   \n",
    "\n",
    "#replacing multiple versions of this publisher name with hodder and stoughton\n",
    "kidsbooks.loc[kidsbooks['publisher'].str.contains('hodder'), 'publisher'] = 'hodder and stoughton'   \n",
    "\n",
    "#replacing multiple versions of this publisher name with hyperion books\n",
    "kidsbooks.loc[kidsbooks['publisher'].str.contains('hyperion'), 'publisher'] = 'hyperion books'   \n",
    "\n",
    "#replacing multiple versions of this publisher name with kane miller\n",
    "kidsbooks.loc[kidsbooks['publisher'].str.contains('kane'), 'publisher'] = 'kane miller'   \n",
    "\n",
    "#replacing multiple versions of this publisher name with kar-ben publishing\n",
    "kidsbooks.loc[kidsbooks['publisher'].str.contains('kar-ben'), 'publisher'] = 'kar-ben publishing'   \n",
    "\n",
    "#replacing multiple versions of this publisher name with ladybird books\n",
    "kidsbooks.loc[kidsbooks['publisher'].str.contains('ladybird'), 'publisher'] = 'ladybird books'   \n",
    "\n",
    "#replacing multiple versions of this publisher name with little brown books\n",
    "kidsbooks.loc[kidsbooks['publisher'].str.contains('little, brown'), 'publisher'] = 'little brown books'   \n",
    "\n",
    "#replacing multiple versions of this publisher name with lothrop, lee and shepard books\n",
    "kidsbooks.loc[kidsbooks['publisher'].str.contains('lothrop'), 'publisher'] = 'lothrop, lee and shepard books'   \n",
    "\n",
    "#replacing multiple versions of this publisher name with macmillan publishing\n",
    "kidsbooks.loc[kidsbooks['publisher'].str.contains('macmillan'), 'publisher'] = 'macmillan publishing'   \n",
    "\n",
    "#replacing multiple versions of this publisher name with margaret k. mcelderry books\n",
    "kidsbooks.loc[kidsbooks['publisher'].str.contains('margaret k. mcelderry'), 'publisher'] = 'margaret k. mcelderry books'   \n",
    "\n",
    "#replacing multiple versions of this publisher name with meadowbrook press\n",
    "kidsbooks.loc[kidsbooks['publisher'].str.contains('meadowbrook'), 'publisher'] = 'meadowbrook press'   \n",
    "\n",
    "#replacing multiple versions of this publisher name with national geographic kids\n",
    "kidsbooks.loc[kidsbooks['publisher'].str.contains('national geographic'), 'publisher'] = 'national geographic kids'   \n",
    "\n",
    "#replacing multiple versions of this publisher name with northsouth books\n",
    "kidsbooks.loc[kidsbooks['publisher'].str.contains('north-south'), 'publisher'] = 'northsouth books'   \n",
    "kidsbooks.loc[kidsbooks['publisher'].str.contains('northsouth'), 'publisher'] = 'northsouth books'   \n",
    "\n",
    "#replacing multiple versions of this publisher name with orchard books\n",
    "kidsbooks.loc[kidsbooks['publisher'].str.contains('orchard'), 'publisher'] = 'orchard books'   \n",
    "\n",
    "#replacing multiple versions of this publisher name with oxford university press\n",
    "kidsbooks.loc[kidsbooks['publisher'].str.contains('oxford'), 'publisher'] = 'oxford university press'   \n",
    "\n",
    "#replacing multiple versions of this publisher name with peachtree publishing\n",
    "kidsbooks.loc[kidsbooks['publisher'].str.contains('peachtree publish*'), 'publisher'] = 'peachtree publishing'   \n",
    "\n",
    "#replacing multiple versions of this publisher name with philomel books\n",
    "kidsbooks.loc[kidsbooks['publisher'].str.contains('philomel'), 'publisher'] = 'philomel books'   \n",
    "\n",
    "#replacing multiple versions of this publisher name with priddy books\n",
    "kidsbooks.loc[kidsbooks['publisher'].str.contains('priddy'), 'publisher'] = 'priddy books'   \n",
    "\n",
    "#replacing multiple versions of this publisher name with priddy books\n",
    "kidsbooks.loc[kidsbooks['publisher'].str.contains('priddy'), 'publisher'] = 'priddy books'   \n",
    "\n",
    "#replacing multiple versions of this publisher name with puffin books\n",
    "kidsbooks.loc[kidsbooks['publisher'].str.contains('puffin'), 'publisher'] = 'puffin books'   \n",
    "\n",
    "#replacing multiple versions of this publisher name with pumpkin house\n",
    "kidsbooks.loc[kidsbooks['publisher'].str.contains('pumpkin house'), 'publisher'] = 'pumpkin house'   \n",
    "\n",
    "#replacing multiple versions of this publisher name with putnam publishing\n",
    "kidsbooks.loc[kidsbooks['publisher'].str.contains('putnam'), 'publisher'] = 'putnam publishing'   \n",
    "\n",
    "#replacing multiple versions of this publisher name with random house\n",
    "kidsbooks.loc[kidsbooks['publisher'].str.contains('random house'), 'publisher'] = 'random house'   \n",
    "\n",
    "#replacing multiple versions of this publisher name with readers digest\n",
    "kidsbooks.loc[kidsbooks['publisher'].str.contains('readers digest'), 'publisher'] = 'readers digest'   \n",
    "\n",
    "#replacing multiple versions of this publisher name with red fox books\n",
    "kidsbooks.loc[kidsbooks['publisher'].str.contains('red fox'), 'publisher'] = 'red fox books'   \n",
    " \n",
    "#replacing multiple versions of this publisher name with salina bookshelf\n",
    "kidsbooks.loc[kidsbooks['publisher'].str.contains('salina'), 'publisher'] = 'salina bookshelf'   \n",
    " \n",
    "#replacing multiple versions of this publisher name with scholastic\n",
    "kidsbooks.loc[kidsbooks['publisher'].str.contains('scholastic'), 'publisher'] = 'scholastic'   \n",
    " \n",
    "#replacing multiple versions of this publisher name with schwartz & wade\n",
    "kidsbooks.loc[kidsbooks['publisher'].str.contains('schwartz'), 'publisher'] = 'schwartz & wade'   \n",
    " \n",
    "#replacing multiple versions of this publisher name with silver dolphin books\n",
    "kidsbooks.loc[kidsbooks['publisher'].str.contains('silver dolphin'), 'publisher'] = 'silver dolphin books'   \n",
    " \n",
    "#replacing multiple versions of this publisher name with simon schuster books\n",
    "kidsbooks.loc[kidsbooks['publisher'].str.contains('simon'), 'publisher'] = 'simon schuster books'   \n",
    " \n",
    "#replacing multiple versions of this publisher name with st martins press\n",
    "kidsbooks.loc[kidsbooks['publisher'].str.contains('st martins'), 'publisher'] = 'st martins press'   \n",
    "kidsbooks.loc[kidsbooks['publisher'].str.contains('st. martins'), 'publisher'] = 'st martins press'\n",
    "    \n",
    "#replacing multiple versions of this publisher name with sterling publishing\n",
    "kidsbooks.loc[kidsbooks['publisher'].str.contains('sterling'), 'publisher'] = 'sterling publishing'   \n",
    "    \n",
    "#replacing multiple versions of this publisher name with troll communications\n",
    "kidsbooks.loc[kidsbooks['publisher'].str.contains('troll'), 'publisher'] = 'troll communications'   \n",
    "    \n",
    "#replacing multiple versions of this publisher name with usborne books\n",
    "kidsbooks.loc[kidsbooks['publisher'].str.contains('usborne'), 'publisher'] = 'usborne books'   \n",
    " \n",
    "#replacing multiple versions of this publisher name with viking books\n",
    "kidsbooks.loc[kidsbooks['publisher'].str.contains('viking'), 'publisher'] = 'viking books'   \n",
    " \n",
    "#replacing multiple versions of this publisher name with walker books\n",
    "kidsbooks.loc[kidsbooks['publisher'].str.contains('walker'), 'publisher'] = 'walker books'   \n",
    " \n",
    "#replacing multiple versions of this publisher name with western publishing\n",
    "kidsbooks.loc[kidsbooks['publisher'].str.contains('western'), 'publisher'] = 'golden books' #western publishing is a div of golden books"
   ]
  },
  {
   "cell_type": "code",
   "execution_count": 11,
   "metadata": {},
   "outputs": [
    {
     "data": {
      "text/plain": [
       "(27504, 11)"
      ]
     },
     "execution_count": 11,
     "metadata": {},
     "output_type": "execute_result"
    }
   ],
   "source": [
    "#eliminating any rows that include teacher/academic resources using key words in the \"name\" column\n",
    "#eliminating all books that contain \"teacher guide\" in the name (academic papers)\n",
    "kidsbooks = kidsbooks[~kidsbooks.name.str.contains(\"teacher guide\", na=False)]\n",
    "\n",
    "#eliminating all books that contain \"study guide\" in the name (academic papers)\n",
    "kidsbooks = kidsbooks[~kidsbooks.name.str.contains(\"study guide\", na=False)]\n",
    "kidsbooks.shape"
   ]
  },
  {
   "cell_type": "markdown",
   "metadata": {},
   "source": [
    "#### Null Values: ####"
   ]
  },
  {
   "cell_type": "code",
   "execution_count": 12,
   "metadata": {},
   "outputs": [],
   "source": [
    "#Function to create a data frame that holds the total # of null values and % of null values in each column\n",
    "def null_summary(kidsbooks):\n",
    "    \"\"\"\n",
    "    A function that returns a data frame with the total # and % of NA values in each column.\n",
    "    \n",
    "    Parameters\n",
    "    ----------\n",
    "    data: dataframe\n",
    "    \"\"\"\n",
    "    # First create the allnulls series to find and sum of their null values\n",
    "    allnulls = kidsbooks.isnull().sum()\n",
    "    total = allnulls.sort_values(ascending=False) #sort in descending order\n",
    "    #add in the percent of all nulls in whatever data series called, rounded to 2 decimal places\n",
    "    percent = ( ((allnulls / len(kidsbooks.index))*100).round(2) ).sort_values(ascending=False)\n",
    "    \n",
    "    # concatenate along the columns to create the complete dataframe\n",
    "    df_nulls = pd.concat([total, percent], axis=1, keys=['No. of Nulls', 'Percent of Nulls'])\n",
    "    \n",
    "    # drop rows that don't have any missing data\n",
    "    df_nulls = df_nulls[ (df_nulls.T != 0).any() ]\n",
    "    \n",
    "    return df_nulls"
   ]
  },
  {
   "cell_type": "code",
   "execution_count": 13,
   "metadata": {},
   "outputs": [
    {
     "data": {
      "text/html": [
       "<div>\n",
       "<style scoped>\n",
       "    .dataframe tbody tr th:only-of-type {\n",
       "        vertical-align: middle;\n",
       "    }\n",
       "\n",
       "    .dataframe tbody tr th {\n",
       "        vertical-align: top;\n",
       "    }\n",
       "\n",
       "    .dataframe thead th {\n",
       "        text-align: right;\n",
       "    }\n",
       "</style>\n",
       "<table border=\"1\" class=\"dataframe\">\n",
       "  <thead>\n",
       "    <tr style=\"text-align: right;\">\n",
       "      <th></th>\n",
       "      <th>No. of Nulls</th>\n",
       "      <th>Percent of Nulls</th>\n",
       "    </tr>\n",
       "  </thead>\n",
       "  <tbody>\n",
       "    <tr>\n",
       "      <th>isbn</th>\n",
       "      <td>10</td>\n",
       "      <td>0.04</td>\n",
       "    </tr>\n",
       "  </tbody>\n",
       "</table>\n",
       "</div>"
      ],
      "text/plain": [
       "      No. of Nulls  Percent of Nulls\n",
       "isbn            10              0.04"
      ]
     },
     "execution_count": 13,
     "metadata": {},
     "output_type": "execute_result"
    }
   ],
   "source": [
    "# call the null_summary function to get the proportions of null values for the VOTES dataframe\n",
    "df_nulls = null_summary(kidsbooks)\n",
    "df_nulls"
   ]
  },
  {
   "cell_type": "code",
   "execution_count": 14,
   "metadata": {},
   "outputs": [
    {
     "data": {
      "text/plain": [
       "0"
      ]
     },
     "execution_count": 14,
     "metadata": {},
     "output_type": "execute_result"
    }
   ],
   "source": [
    "#converting isbn blank to NaN\n",
    "kidsbooks['isbn'] = np.where(kidsbooks['isbn'] == \" \", np.nan, kidsbooks['isbn'])\n",
    "\n",
    "#dropping all rows where isbn values are NaN (this is a unique identifier...can't be blank)\n",
    "kidsbooks.dropna(subset = [\"isbn\"], inplace=True)\n",
    "\n",
    "#checking to make sure all NaN values were removed\n",
    "kidsbooks['isbn'].isna().sum()"
   ]
  },
  {
   "cell_type": "code",
   "execution_count": 15,
   "metadata": {},
   "outputs": [
    {
     "data": {
      "text/plain": [
       "(27494, 11)"
      ]
     },
     "execution_count": 15,
     "metadata": {},
     "output_type": "execute_result"
    }
   ],
   "source": [
    "kidsbooks.shape"
   ]
  },
  {
   "cell_type": "markdown",
   "metadata": {},
   "source": [
    "The only null values that I had to remove from this dataset were the 10 found in the ISBN columns. Because this is a unique identifier for each book, I cannot have blanks, and because there are only 10 in the entire dataframe, I have opted to drop the null values, but first I converted any blank values to nulls and dropped everything at once (see above cells). \n",
    "\n",
    "At this point, I have made all publisher names consistent, have put all text into lower case, have gotten rid of all blank and null values in the dataframe, my next step was to look for duplicates of the unique identifiers in the ISBN column and drop any duplicated books. \n",
    "\n",
    "I can see that there are 17, 104 duplicated rows in this dataset, meaning that some books appeared multiple times. A quick look at the duplicates shows me that all other column values are the same and so this is a true duplicate, so I have opted to drop all duplicates. "
   ]
  },
  {
   "cell_type": "code",
   "execution_count": 16,
   "metadata": {},
   "outputs": [
    {
     "data": {
      "text/plain": [
       "0"
      ]
     },
     "execution_count": 16,
     "metadata": {},
     "output_type": "execute_result"
    }
   ],
   "source": [
    "#finding and dropping duplicate books based on uniqe ISBN identifier\n",
    "# Checking for duplicated rows \n",
    "kidsbooks['isbn'].duplicated().sum()  #there were 17,104 duplicated rows found in this df \n",
    "\n",
    "# dropping the rows where books / unique ISBNs are duplicates\n",
    "kidsbooks = kidsbooks.drop_duplicates(subset='isbn', keep=\"first\")\n",
    "\n",
    "# Confirming duplicated row has been dropped\n",
    "kidsbooks['isbn'].duplicated().sum()"
   ]
  },
  {
   "cell_type": "code",
   "execution_count": 17,
   "metadata": {},
   "outputs": [
    {
     "data": {
      "text/plain": [
       "(10390, 11)"
      ]
     },
     "execution_count": 17,
     "metadata": {},
     "output_type": "execute_result"
    }
   ],
   "source": [
    "kidsbooks.shape"
   ]
  },
  {
   "cell_type": "markdown",
   "metadata": {},
   "source": [
    "Now that most of the data has been cleaned (with the exception of clearing up punctuation in the name and description columns which will be done in the text pre-processing steps in the next notebook), I would like to roughly classify the books into two age ranges (0-2) and (4+), again based on number of pages. \n",
    "\n",
    "I'd like the books that will be recommended to be, somewhat age appropriate without making my age groups overly complex. From my personal experience and additional informal surveys of parent groups, many parents of kids 2 and under often lean toward board books because they are more indestructible and easier for kids to handle themselves. They also lean toward shorter picture books to keep the kids' attention during story time. \n",
    "\n",
    "Then any longer books, I've reserved to kids aged three and up for my recommendations. \n",
    "\n",
    "So my two age groups are as follows:\n",
    "    <ul>\n",
    "    <li> ages 0-2: book lengths of 4-30 pages\n",
    "    <li> ages 3+: book lengths of over 30 pages (database only has books up to 38 pages for ease of separation)\n",
    "    </ul>"
   ]
  },
  {
   "cell_type": "code",
   "execution_count": 18,
   "metadata": {},
   "outputs": [],
   "source": [
    "#setting up age group column and filtering by page number\n",
    "    # is_preschooler column: \n",
    "    # books categorized by page count <30 will be assigned a 0 (for infant/toddlers ages 0-2)\n",
    "    # books with a page count over 30 will be assigned 1 (for older kids)\n",
    "\n",
    "kidsbooks['is_preschooler'] = np.where((kidsbooks['pagesnumber']>30), 1, 0)"
   ]
  },
  {
   "cell_type": "code",
   "execution_count": 19,
   "metadata": {},
   "outputs": [
    {
     "data": {
      "text/html": [
       "<div>\n",
       "<style scoped>\n",
       "    .dataframe tbody tr th:only-of-type {\n",
       "        vertical-align: middle;\n",
       "    }\n",
       "\n",
       "    .dataframe tbody tr th {\n",
       "        vertical-align: top;\n",
       "    }\n",
       "\n",
       "    .dataframe thead th {\n",
       "        text-align: right;\n",
       "    }\n",
       "</style>\n",
       "<table border=\"1\" class=\"dataframe\">\n",
       "  <thead>\n",
       "    <tr style=\"text-align: right;\">\n",
       "      <th></th>\n",
       "      <th>name</th>\n",
       "      <th>authors</th>\n",
       "      <th>isbn</th>\n",
       "      <th>rating</th>\n",
       "      <th>publishyear</th>\n",
       "      <th>publishmonth</th>\n",
       "      <th>publishday</th>\n",
       "      <th>publisher</th>\n",
       "      <th>countsofreview</th>\n",
       "      <th>pagesnumber</th>\n",
       "      <th>description</th>\n",
       "      <th>is_preschooler</th>\n",
       "    </tr>\n",
       "  </thead>\n",
       "  <tbody>\n",
       "    <tr>\n",
       "      <th>0</th>\n",
       "      <td>russell's secret</td>\n",
       "      <td>johanna hurwitz</td>\n",
       "      <td>0688175740</td>\n",
       "      <td>3</td>\n",
       "      <td>2001</td>\n",
       "      <td>6</td>\n",
       "      <td>11</td>\n",
       "      <td>harpercollins</td>\n",
       "      <td>8</td>\n",
       "      <td>32</td>\n",
       "      <td>have you ever heard the words&lt;br /&gt;\"\"you can s...</td>\n",
       "      <td>1</td>\n",
       "    </tr>\n",
       "    <tr>\n",
       "      <th>1</th>\n",
       "      <td>oye, hormiguita</td>\n",
       "      <td>phillip hoose</td>\n",
       "      <td>1582460892</td>\n",
       "      <td>4</td>\n",
       "      <td>2004</td>\n",
       "      <td>1</td>\n",
       "      <td>6</td>\n",
       "      <td>tricycle press</td>\n",
       "      <td>2</td>\n",
       "      <td>32</td>\n",
       "      <td>the spanish translation of bestseller hey, lit...</td>\n",
       "      <td>1</td>\n",
       "    </tr>\n",
       "    <tr>\n",
       "      <th>2</th>\n",
       "      <td>dear bunny</td>\n",
       "      <td>michaela morgan</td>\n",
       "      <td>1904442978</td>\n",
       "      <td>4</td>\n",
       "      <td>2007</td>\n",
       "      <td>8</td>\n",
       "      <td>1</td>\n",
       "      <td>the chicken house</td>\n",
       "      <td>25</td>\n",
       "      <td>32</td>\n",
       "      <td>the cutest couple of star-crossed rabbits craf...</td>\n",
       "      <td>1</td>\n",
       "    </tr>\n",
       "  </tbody>\n",
       "</table>\n",
       "</div>"
      ],
      "text/plain": [
       "               name          authors        isbn  rating  publishyear  \\\n",
       "0  russell's secret  johanna hurwitz  0688175740       3         2001   \n",
       "1   oye, hormiguita    phillip hoose  1582460892       4         2004   \n",
       "2        dear bunny  michaela morgan  1904442978       4         2007   \n",
       "\n",
       "   publishmonth  publishday          publisher  countsofreview  pagesnumber  \\\n",
       "0             6          11      harpercollins               8           32   \n",
       "1             1           6     tricycle press               2           32   \n",
       "2             8           1  the chicken house              25           32   \n",
       "\n",
       "                                         description  is_preschooler  \n",
       "0  have you ever heard the words<br />\"\"you can s...               1  \n",
       "1  the spanish translation of bestseller hey, lit...               1  \n",
       "2  the cutest couple of star-crossed rabbits craf...               1  "
      ]
     },
     "execution_count": 19,
     "metadata": {},
     "output_type": "execute_result"
    }
   ],
   "source": [
    "kidsbooks.head(3)"
   ]
  },
  {
   "cell_type": "code",
   "execution_count": 20,
   "metadata": {},
   "outputs": [
    {
     "data": {
      "image/png": "[encoded data removed]",
      "text/plain": [
       "<Figure size 432x288 with 1 Axes>"
      ]
     },
     "metadata": {
      "needs_background": "light"
     },
     "output_type": "display_data"
    }
   ],
   "source": [
    "#looking at distribution of books by newly categorized age group\n",
    "rating, counts = np.unique(kidsbooks['is_preschooler'], return_counts=True)\n",
    "\n",
    "plt.figure()\n",
    "plt.bar([\"0\",\"1\"], counts)\n",
    "plt.xlabel('Age Groups:     0 (infant/toddler)    |    1 (preschooler)')\n",
    "plt.ylabel('Count of books per Age Group')\n",
    "# Function add a legend   \n",
    "plt.show()"
   ]
  },
  {
   "cell_type": "code",
   "execution_count": 21,
   "metadata": {},
   "outputs": [
    {
     "name": "stdout",
     "output_type": "stream",
     "text": [
      "[0.28498556 0.71501444]\n"
     ]
    }
   ],
   "source": [
    "print(counts/np.sum(counts))"
   ]
  },
  {
   "cell_type": "markdown",
   "metadata": {},
   "source": [
    "So I can tell that, by roughly dividing these categories by page count, in this particular dataset there are significantly more preschooler books (listed as class 1) which I've allocated for kids aged 3+. This category of books makes up approximately 70% of the dataset as it has been divided here. Which makes sense as this is the age group where books are more strongly emphasized, there are more years included in this age group, and there are a larger proportion of available books for this age group. \n",
    "\n",
    "The infant/toddler books (listed as class 0) and targeted at kids under the age of 3, make up just under 30% of this dataset. I could have reduced the page numbers here to ensure much shorter books for this age group but decided that it is safer to recommend books that are for slightly older kids or are longer books so children can grow into them, rather than risk recommending shorter books to older children who might outgrow them too quickly. "
   ]
  },
  {
   "cell_type": "code",
   "execution_count": 22,
   "metadata": {},
   "outputs": [
    {
     "data": {
      "text/plain": [
       "(10390, 12)"
      ]
     },
     "execution_count": 22,
     "metadata": {},
     "output_type": "execute_result"
    }
   ],
   "source": [
    "#saving kidsbooks df as master df with all items \n",
    "master = kidsbooks.copy()\n",
    "\n",
    "#and exporting as CSV for safekeeping\n",
    "master.to_csv('master.csv', header=True)\n",
    "master.shape"
   ]
  },
  {
   "cell_type": "code",
   "execution_count": 23,
   "metadata": {},
   "outputs": [
    {
     "data": {
      "text/plain": [
       "(10390, 4)"
      ]
     },
     "execution_count": 23,
     "metadata": {},
     "output_type": "execute_result"
    }
   ],
   "source": [
    "#create a new df with only key columns from the kidsbooks needed for recommender system \n",
    "books = kidsbooks[['isbn', 'name', 'description', 'is_preschooler']].copy()\n",
    "\n",
    "#and exporting as CSV for safekeeping\n",
    "books.to_csv('books.csv', header=True)\n",
    "books.shape"
   ]
  },
  {
   "cell_type": "markdown",
   "metadata": {},
   "source": [
    "### Exploratory Data Analysis ###\n",
    "\n",
    "The text data that I am using is a description for each children's book that's been reviewed and the review score is in the rating column.\n",
    "\n",
    "In this data set, the rating ranges from 0 to 5. We can look at samples of the data to see some sample descriptions and the book's average review score/rating:"
   ]
  },
  {
   "cell_type": "code",
   "execution_count": 24,
   "metadata": {},
   "outputs": [
    {
     "name": "stdout",
     "output_type": "stream",
     "text": [
      "[['little monkey is an exceptionally talented pee-er, so he decides to open a peeing circus in order to show off his gift. intended for children, this picture book with illustrations serves as an introduction to boy parts and girl parts - their differences and similarities. it tells readers that girls can do what boys can.'\n",
      "  3]\n",
      " [\"a classic nursery rhyme in a unique board book format with applique on the cover and colorful ribbon tags, perfect for little hands!<br /><br />pat-a-cake, pat-a-cake, baker man!<br />bake me a cake as fast as you can.<br /><br />pat it, and roll it, and mark it with a b.<br />put it in the oven for baby and me.<br /><br />babies and toddlers like this classic nursery rhyme, and they'll love touching the soft applique cover of this unique board book that features satin ribbon tags.\"\n",
      "  3]\n",
      " ['billy is a big boy who can do all sorts of things by himself. and when his parents tell him he is growing bigger every day, he starts to imagine what it would be like to be the biggest boy in the world.'\n",
      "  3]\n",
      " ['\"\\'twas the night before christmas, and all through the base<br />only sentries were stirring--they guarded the place.<br />the soldiers were sleeping and snoring away<br />as they dreamed of \\'back home\\' on good christmas day...\"<br /><br />one christmas eve at a military barracks in the middle east, some homesick soldiers are paid a visit by sergeant mcclaus, the santa of soldiers. this lively and poignant tale is inspired by clement c. moore\\'s classic yuletide poem.<br /><br /><br /><i>from the hardcover edition.</i>'\n",
      "  4]]\n"
     ]
    }
   ],
   "source": [
    "print(kidsbooks[['description', 'rating']].sample(4).values)"
   ]
  },
  {
   "cell_type": "code",
   "execution_count": 25,
   "metadata": {},
   "outputs": [
    {
     "data": {
      "image/png": "[encoded data removed]",
      "text/plain": [
       "<Figure size 432x288 with 1 Axes>"
      ]
     },
     "metadata": {
      "needs_background": "light"
     },
     "output_type": "display_data"
    }
   ],
   "source": [
    "#looking at the distribution of review scores \n",
    "rating, counts = np.unique(kidsbooks['rating'], return_counts=True)\n",
    "\n",
    "plt.figure()\n",
    "plt.bar(rating, counts)\n",
    "plt.xlabel('Review rating')\n",
    "plt.ylabel('Count of books reviewed')\n",
    "plt.show()"
   ]
  },
  {
   "cell_type": "code",
   "execution_count": 26,
   "metadata": {},
   "outputs": [
    {
     "name": "stdout",
     "output_type": "stream",
     "text": [
      "[1.34744947e-03 9.62463908e-05 6.15976901e-03 1.53609240e-01\n",
      " 8.23484119e-01 1.53031761e-02]\n"
     ]
    }
   ],
   "source": [
    "print(counts/np.sum(counts))"
   ]
  },
  {
   "cell_type": "code",
   "execution_count": 27,
   "metadata": {},
   "outputs": [
    {
     "data": {
      "image/png": "[encoded data removed]",
      "text/plain": [
       "<Figure size 432x288 with 1 Axes>"
      ]
     },
     "metadata": {
      "needs_background": "light"
     },
     "output_type": "display_data"
    }
   ],
   "source": [
    "#for interest sake: looking at distribution of number of pages column\n",
    "values, counts = np.unique(kidsbooks['pagesnumber'], return_counts=True)\n",
    "plt.figure()\n",
    "plt.bar(values, counts)\n",
    "plt.xlabel('Page Count')\n",
    "plt.ylabel('Count of books')\n",
    "plt.show()"
   ]
  },
  {
   "cell_type": "code",
   "execution_count": 28,
   "metadata": {},
   "outputs": [
    {
     "data": {
      "image/png": "[encoded data removed]",
      "text/plain": [
       "<Figure size 432x288 with 1 Axes>"
      ]
     },
     "metadata": {
      "needs_background": "light"
     },
     "output_type": "display_data"
    }
   ],
   "source": [
    "#for interest sake: looking at common publishing dates\n",
    "values, counts = np.unique(kidsbooks['publishyear'], return_counts=True)\n",
    "plt.figure()\n",
    "plt.bar(values, counts)\n",
    "plt.xlabel('Publishing Year')\n",
    "plt.ylabel('Count of books')\n",
    "plt.show()"
   ]
  },
  {
   "cell_type": "code",
   "execution_count": 29,
   "metadata": {},
   "outputs": [
    {
     "data": {
      "image/png": "[encoded data removed]",
      "text/plain": [
       "<Figure size 432x288 with 1 Axes>"
      ]
     },
     "metadata": {
      "needs_background": "light"
     },
     "output_type": "display_data"
    }
   ],
   "source": [
    "#for interest sake: looking at common publishing month (is there a trend on what month/time of year books get published)\n",
    "values, counts = np.unique(kidsbooks['publishmonth'], return_counts=True)\n",
    "plt.figure()\n",
    "plt.bar(values, counts)\n",
    "plt.xlabel('Month of Publishing')\n",
    "plt.ylabel('Count of books')\n",
    "plt.show()"
   ]
  },
  {
   "cell_type": "code",
   "execution_count": 30,
   "metadata": {},
   "outputs": [
    {
     "data": {
      "text/plain": [
       "0         6\n",
       "1         1\n",
       "2         8\n",
       "3        18\n",
       "4         1\n",
       "         ..\n",
       "17959     1\n",
       "17962     1\n",
       "17965    26\n",
       "17974     1\n",
       "17985     9\n",
       "Name: publishmonth, Length: 10390, dtype: int64"
      ]
     },
     "execution_count": 30,
     "metadata": {},
     "output_type": "execute_result"
    }
   ],
   "source": [
    "#checking the values of some of the publish month column\n",
    "kidsbooks['publishmonth']"
   ]
  },
  {
   "cell_type": "markdown",
   "metadata": {},
   "source": [
    "Hmm...that's weird. I was hoping to see if there was a pattern on which month of the year many kidsbooks are published but discovered that there are values much higher than 12 in this column. So likely there were some errors in data entry where the day of the month was entered into the month column, which could be why we're seeing values above 12 (Jan-Dec). \n",
    "\n",
    "If that is the case, I don't think it's valuable to puruse this train of thought around common dates/frequencies for month and day as they are likely transposed and it would be difficult to tease out the correct data.\n",
    "\n",
    "So my next course of action is just to begin vectorizing my text data and see if I can draw out more insights around top words used in kids book descriptions, then build my recommender!"
   ]
  },
  {
   "cell_type": "markdown",
   "metadata": {},
   "source": [
    "**Please see the next notebook named Vectorizing & Modeling for the continuation of this project.** "
   ]
  }
 ],
 "metadata": {
  "kernelspec": {
   "display_name": "Python 3",
   "language": "python",
   "name": "python3"
  },
  "language_info": {
   "codemirror_mode": {
    "name": "ipython",
    "version": 3
   },
   "file_extension": ".py",
   "mimetype": "text/x-python",
   "name": "python",
   "nbconvert_exporter": "python",
   "pygments_lexer": "ipython3",
   "version": "3.7.6"
  }
 },
 "nbformat": 4,
 "nbformat_minor": 4
}
